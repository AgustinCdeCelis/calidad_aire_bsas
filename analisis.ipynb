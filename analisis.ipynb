{
 "cells": [
  {
   "cell_type": "code",
   "execution_count": 414,
   "metadata": {},
   "outputs": [],
   "source": [
    "import pandas as pd\n",
    "import numpy as np"
   ]
  },
  {
   "cell_type": "code",
   "execution_count": 415,
   "metadata": {},
   "outputs": [
    {
     "data": {
      "text/html": [
       "<div>\n",
       "<style scoped>\n",
       "    .dataframe tbody tr th:only-of-type {\n",
       "        vertical-align: middle;\n",
       "    }\n",
       "\n",
       "    .dataframe tbody tr th {\n",
       "        vertical-align: top;\n",
       "    }\n",
       "\n",
       "    .dataframe thead th {\n",
       "        text-align: right;\n",
       "    }\n",
       "</style>\n",
       "<table border=\"1\" class=\"dataframe\">\n",
       "  <thead>\n",
       "    <tr style=\"text-align: right;\">\n",
       "      <th></th>\n",
       "      <th>FECHA</th>\n",
       "      <th>HORA</th>\n",
       "      <th>CO_CENTENARIO</th>\n",
       "      <th>NO2_CENTENARIO</th>\n",
       "      <th>PM10_CENTENARIO</th>\n",
       "      <th>CO_CORDOBA</th>\n",
       "      <th>NO2_CORDOBA</th>\n",
       "      <th>PM10_CORDOBA</th>\n",
       "      <th>CO_LA_BOCA</th>\n",
       "      <th>NO2_LA_BOCA</th>\n",
       "      <th>PM10_LA_BOCA</th>\n",
       "      <th>CO_PALERMO</th>\n",
       "      <th>NO2_PALERMO</th>\n",
       "      <th>PM10_PALERMO</th>\n",
       "    </tr>\n",
       "  </thead>\n",
       "  <tbody>\n",
       "    <tr>\n",
       "      <th>0</th>\n",
       "      <td>21NOV2009:00:00:00</td>\n",
       "      <td>8</td>\n",
       "      <td>0.39</td>\n",
       "      <td>17</td>\n",
       "      <td>NaN</td>\n",
       "      <td>s/d</td>\n",
       "      <td>20</td>\n",
       "      <td>NaN</td>\n",
       "      <td>s/d</td>\n",
       "      <td>18</td>\n",
       "      <td>NaN</td>\n",
       "      <td>0.56</td>\n",
       "      <td>NaN</td>\n",
       "      <td>NaN</td>\n",
       "    </tr>\n",
       "    <tr>\n",
       "      <th>1</th>\n",
       "      <td>21NOV2009:00:00:00</td>\n",
       "      <td>15</td>\n",
       "      <td>0.68</td>\n",
       "      <td>15</td>\n",
       "      <td>NaN</td>\n",
       "      <td>s/d</td>\n",
       "      <td>20</td>\n",
       "      <td>NaN</td>\n",
       "      <td>s/d</td>\n",
       "      <td>16</td>\n",
       "      <td>NaN</td>\n",
       "      <td>1.04</td>\n",
       "      <td>NaN</td>\n",
       "      <td>NaN</td>\n",
       "    </tr>\n",
       "    <tr>\n",
       "      <th>2</th>\n",
       "      <td>21NOV2009:00:00:00</td>\n",
       "      <td>21</td>\n",
       "      <td>0.81</td>\n",
       "      <td>20</td>\n",
       "      <td>NaN</td>\n",
       "      <td>s/d</td>\n",
       "      <td>18</td>\n",
       "      <td>NaN</td>\n",
       "      <td>s/d</td>\n",
       "      <td>23</td>\n",
       "      <td>NaN</td>\n",
       "      <td>1.16</td>\n",
       "      <td>NaN</td>\n",
       "      <td>NaN</td>\n",
       "    </tr>\n",
       "    <tr>\n",
       "      <th>3</th>\n",
       "      <td>21NOV2009:00:00:00</td>\n",
       "      <td>22</td>\n",
       "      <td>0.85</td>\n",
       "      <td>21</td>\n",
       "      <td>NaN</td>\n",
       "      <td>s/d</td>\n",
       "      <td>18</td>\n",
       "      <td>NaN</td>\n",
       "      <td>s/d</td>\n",
       "      <td>18</td>\n",
       "      <td>NaN</td>\n",
       "      <td>1.16</td>\n",
       "      <td>NaN</td>\n",
       "      <td>NaN</td>\n",
       "    </tr>\n",
       "    <tr>\n",
       "      <th>4</th>\n",
       "      <td>21NOV2009:00:00:00</td>\n",
       "      <td>24</td>\n",
       "      <td>0.93</td>\n",
       "      <td>22</td>\n",
       "      <td>NaN</td>\n",
       "      <td>s/d</td>\n",
       "      <td>15</td>\n",
       "      <td>NaN</td>\n",
       "      <td>s/d</td>\n",
       "      <td>25</td>\n",
       "      <td>NaN</td>\n",
       "      <td>1.16</td>\n",
       "      <td>NaN</td>\n",
       "      <td>NaN</td>\n",
       "    </tr>\n",
       "    <tr>\n",
       "      <th>...</th>\n",
       "      <td>...</td>\n",
       "      <td>...</td>\n",
       "      <td>...</td>\n",
       "      <td>...</td>\n",
       "      <td>...</td>\n",
       "      <td>...</td>\n",
       "      <td>...</td>\n",
       "      <td>...</td>\n",
       "      <td>...</td>\n",
       "      <td>...</td>\n",
       "      <td>...</td>\n",
       "      <td>...</td>\n",
       "      <td>...</td>\n",
       "      <td>...</td>\n",
       "    </tr>\n",
       "    <tr>\n",
       "      <th>113622</th>\n",
       "      <td>26NOV2009:00:00:00</td>\n",
       "      <td>9</td>\n",
       "      <td>0.69</td>\n",
       "      <td>41</td>\n",
       "      <td>NaN</td>\n",
       "      <td>s/d</td>\n",
       "      <td>s/d</td>\n",
       "      <td>NaN</td>\n",
       "      <td>s/d</td>\n",
       "      <td>19</td>\n",
       "      <td>NaN</td>\n",
       "      <td>0.41</td>\n",
       "      <td>NaN</td>\n",
       "      <td>NaN</td>\n",
       "    </tr>\n",
       "    <tr>\n",
       "      <th>113623</th>\n",
       "      <td>18MAY2019:00:00:00</td>\n",
       "      <td>3</td>\n",
       "      <td>0.56</td>\n",
       "      <td>7</td>\n",
       "      <td>17</td>\n",
       "      <td>0.51</td>\n",
       "      <td>8</td>\n",
       "      <td>20</td>\n",
       "      <td>0.24</td>\n",
       "      <td>6</td>\n",
       "      <td>32</td>\n",
       "      <td>NaN</td>\n",
       "      <td>NaN</td>\n",
       "      <td>NaN</td>\n",
       "    </tr>\n",
       "    <tr>\n",
       "      <th>113624</th>\n",
       "      <td>03DEC2014:00:00:00</td>\n",
       "      <td>9</td>\n",
       "      <td>0.68</td>\n",
       "      <td>20</td>\n",
       "      <td>35</td>\n",
       "      <td>0.39</td>\n",
       "      <td>22</td>\n",
       "      <td>s/d</td>\n",
       "      <td>s/d</td>\n",
       "      <td>s/d</td>\n",
       "      <td>s/d</td>\n",
       "      <td>NaN</td>\n",
       "      <td>NaN</td>\n",
       "      <td>NaN</td>\n",
       "    </tr>\n",
       "    <tr>\n",
       "      <th>113625</th>\n",
       "      <td>03FEB2019:00:00:00</td>\n",
       "      <td>8</td>\n",
       "      <td>0.13</td>\n",
       "      <td>6</td>\n",
       "      <td>33</td>\n",
       "      <td>0.30</td>\n",
       "      <td>33</td>\n",
       "      <td>29</td>\n",
       "      <td>0.28</td>\n",
       "      <td>3</td>\n",
       "      <td>s/d</td>\n",
       "      <td>NaN</td>\n",
       "      <td>NaN</td>\n",
       "      <td>NaN</td>\n",
       "    </tr>\n",
       "    <tr>\n",
       "      <th>113626</th>\n",
       "      <td>10OCT2018:00:00:00</td>\n",
       "      <td>8</td>\n",
       "      <td>0.25</td>\n",
       "      <td>22</td>\n",
       "      <td>18</td>\n",
       "      <td>0.27</td>\n",
       "      <td>38</td>\n",
       "      <td>27</td>\n",
       "      <td>0.31</td>\n",
       "      <td>21</td>\n",
       "      <td>16</td>\n",
       "      <td>NaN</td>\n",
       "      <td>NaN</td>\n",
       "      <td>NaN</td>\n",
       "    </tr>\n",
       "  </tbody>\n",
       "</table>\n",
       "<p>113627 rows × 14 columns</p>\n",
       "</div>"
      ],
      "text/plain": [
       "                     FECHA  HORA CO_CENTENARIO NO2_CENTENARIO PM10_CENTENARIO  \\\n",
       "0       21NOV2009:00:00:00     8          0.39             17             NaN   \n",
       "1       21NOV2009:00:00:00    15          0.68             15             NaN   \n",
       "2       21NOV2009:00:00:00    21          0.81             20             NaN   \n",
       "3       21NOV2009:00:00:00    22          0.85             21             NaN   \n",
       "4       21NOV2009:00:00:00    24          0.93             22             NaN   \n",
       "...                    ...   ...           ...            ...             ...   \n",
       "113622  26NOV2009:00:00:00     9          0.69             41             NaN   \n",
       "113623  18MAY2019:00:00:00     3          0.56              7              17   \n",
       "113624  03DEC2014:00:00:00     9          0.68             20              35   \n",
       "113625  03FEB2019:00:00:00     8          0.13              6              33   \n",
       "113626  10OCT2018:00:00:00     8          0.25             22              18   \n",
       "\n",
       "       CO_CORDOBA NO2_CORDOBA PM10_CORDOBA CO_LA_BOCA NO2_LA_BOCA  \\\n",
       "0             s/d          20          NaN        s/d          18   \n",
       "1             s/d          20          NaN        s/d          16   \n",
       "2             s/d          18          NaN        s/d          23   \n",
       "3             s/d          18          NaN        s/d          18   \n",
       "4             s/d          15          NaN        s/d          25   \n",
       "...           ...         ...          ...        ...         ...   \n",
       "113622        s/d         s/d          NaN        s/d          19   \n",
       "113623       0.51           8           20       0.24           6   \n",
       "113624       0.39          22          s/d        s/d         s/d   \n",
       "113625       0.30          33           29       0.28           3   \n",
       "113626       0.27          38           27       0.31          21   \n",
       "\n",
       "       PM10_LA_BOCA CO_PALERMO  NO2_PALERMO  PM10_PALERMO  \n",
       "0               NaN       0.56          NaN           NaN  \n",
       "1               NaN       1.04          NaN           NaN  \n",
       "2               NaN       1.16          NaN           NaN  \n",
       "3               NaN       1.16          NaN           NaN  \n",
       "4               NaN       1.16          NaN           NaN  \n",
       "...             ...        ...          ...           ...  \n",
       "113622          NaN       0.41          NaN           NaN  \n",
       "113623           32        NaN          NaN           NaN  \n",
       "113624          s/d        NaN          NaN           NaN  \n",
       "113625          s/d        NaN          NaN           NaN  \n",
       "113626           16        NaN          NaN           NaN  \n",
       "\n",
       "[113627 rows x 14 columns]"
      ]
     },
     "execution_count": 415,
     "metadata": {},
     "output_type": "execute_result"
    }
   ],
   "source": [
    "df = pd.read_csv('calidad-aire.csv')\n",
    "\n",
    "df"
   ]
  },
  {
   "cell_type": "code",
   "execution_count": 416,
   "metadata": {},
   "outputs": [
    {
     "data": {
      "text/plain": [
       "31MAY2019:00:00:00    49\n",
       "01JUN2019:00:00:00    48\n",
       "21DEC2021:00:00:00    41\n",
       "20APR2012:00:00:00    38\n",
       "22DEC2021:00:00:00    38\n",
       "                      ..\n",
       "25MAY2020:00:00:00    12\n",
       "12FEB2010:00:00:00    12\n",
       "17SEP2021:00:00:00    12\n",
       "01OCT2009:00:00:00    11\n",
       "01FEB2016:00:00:00     1\n",
       "Name: FECHA, Length: 4770, dtype: int64"
      ]
     },
     "execution_count": 416,
     "metadata": {},
     "output_type": "execute_result"
    }
   ],
   "source": [
    "df['FECHA'].value_counts()"
   ]
  },
  {
   "cell_type": "code",
   "execution_count": 417,
   "metadata": {},
   "outputs": [
    {
     "data": {
      "text/plain": [
       "FECHA                   0\n",
       "HORA                    0\n",
       "CO_CENTENARIO         242\n",
       "NO2_CENTENARIO        241\n",
       "PM10_CENTENARIO     10548\n",
       "CO_CORDOBA            242\n",
       "NO2_CORDOBA           241\n",
       "PM10_CORDOBA        10548\n",
       "CO_LA_BOCA            239\n",
       "NO2_LA_BOCA           241\n",
       "PM10_LA_BOCA        10545\n",
       "CO_PALERMO         107623\n",
       "NO2_PALERMO        113627\n",
       "PM10_PALERMO       113627\n",
       "dtype: int64"
      ]
     },
     "execution_count": 417,
     "metadata": {},
     "output_type": "execute_result"
    }
   ],
   "source": [
    "df.isnull().sum()"
   ]
  },
  {
   "cell_type": "code",
   "execution_count": 418,
   "metadata": {},
   "outputs": [
    {
     "data": {
      "text/html": [
       "<div>\n",
       "<style scoped>\n",
       "    .dataframe tbody tr th:only-of-type {\n",
       "        vertical-align: middle;\n",
       "    }\n",
       "\n",
       "    .dataframe tbody tr th {\n",
       "        vertical-align: top;\n",
       "    }\n",
       "\n",
       "    .dataframe thead th {\n",
       "        text-align: right;\n",
       "    }\n",
       "</style>\n",
       "<table border=\"1\" class=\"dataframe\">\n",
       "  <thead>\n",
       "    <tr style=\"text-align: right;\">\n",
       "      <th></th>\n",
       "      <th>FECHA</th>\n",
       "      <th>HORA</th>\n",
       "      <th>CO_CENTENARIO</th>\n",
       "      <th>NO2_CENTENARIO</th>\n",
       "      <th>PM10_CENTENARIO</th>\n",
       "      <th>CO_CORDOBA</th>\n",
       "      <th>NO2_CORDOBA</th>\n",
       "      <th>PM10_CORDOBA</th>\n",
       "      <th>CO_LA_BOCA</th>\n",
       "      <th>NO2_LA_BOCA</th>\n",
       "      <th>PM10_LA_BOCA</th>\n",
       "      <th>CO_PALERMO</th>\n",
       "      <th>NO2_PALERMO</th>\n",
       "      <th>PM10_PALERMO</th>\n",
       "    </tr>\n",
       "  </thead>\n",
       "  <tbody>\n",
       "  </tbody>\n",
       "</table>\n",
       "</div>"
      ],
      "text/plain": [
       "Empty DataFrame\n",
       "Columns: [FECHA, HORA, CO_CENTENARIO, NO2_CENTENARIO, PM10_CENTENARIO, CO_CORDOBA, NO2_CORDOBA, PM10_CORDOBA, CO_LA_BOCA, NO2_LA_BOCA, PM10_LA_BOCA, CO_PALERMO, NO2_PALERMO, PM10_PALERMO]\n",
       "Index: []"
      ]
     },
     "execution_count": 418,
     "metadata": {},
     "output_type": "execute_result"
    }
   ],
   "source": [
    "df[df.duplicated()]"
   ]
  },
  {
   "cell_type": "code",
   "execution_count": 419,
   "metadata": {},
   "outputs": [
    {
     "data": {
      "text/plain": [
       "FECHA               object\n",
       "HORA                 int64\n",
       "CO_CENTENARIO       object\n",
       "NO2_CENTENARIO      object\n",
       "PM10_CENTENARIO     object\n",
       "CO_CORDOBA          object\n",
       "NO2_CORDOBA         object\n",
       "PM10_CORDOBA        object\n",
       "CO_LA_BOCA          object\n",
       "NO2_LA_BOCA         object\n",
       "PM10_LA_BOCA        object\n",
       "CO_PALERMO          object\n",
       "NO2_PALERMO        float64\n",
       "PM10_PALERMO       float64\n",
       "dtype: object"
      ]
     },
     "execution_count": 419,
     "metadata": {},
     "output_type": "execute_result"
    }
   ],
   "source": [
    "df.dtypes"
   ]
  },
  {
   "cell_type": "code",
   "execution_count": 420,
   "metadata": {},
   "outputs": [
    {
     "data": {
      "text/plain": [
       "0         21NOV2009\n",
       "1         21NOV2009\n",
       "2         21NOV2009\n",
       "3         21NOV2009\n",
       "4         21NOV2009\n",
       "            ...    \n",
       "113622    26NOV2009\n",
       "113623    18MAY2019\n",
       "113624    03DEC2014\n",
       "113625    03FEB2019\n",
       "113626    10OCT2018\n",
       "Name: fecha_prep, Length: 113627, dtype: object"
      ]
     },
     "execution_count": 420,
     "metadata": {},
     "output_type": "execute_result"
    }
   ],
   "source": [
    "df['fecha_prep'] = df['FECHA'].str[:9]\n",
    "\n",
    "df['fecha_prep']"
   ]
  },
  {
   "cell_type": "code",
   "execution_count": 421,
   "metadata": {},
   "outputs": [
    {
     "data": {
      "text/plain": [
       "0         2009\n",
       "1         2009\n",
       "2         2009\n",
       "3         2009\n",
       "4         2009\n",
       "          ... \n",
       "113622    2009\n",
       "113623    2019\n",
       "113624    2014\n",
       "113625    2019\n",
       "113626    2018\n",
       "Name: year, Length: 113627, dtype: object"
      ]
     },
     "execution_count": 421,
     "metadata": {},
     "output_type": "execute_result"
    }
   ],
   "source": [
    "df['year'] = df['fecha_prep'].str[5:]\n",
    "\n",
    "df['year']"
   ]
  },
  {
   "cell_type": "code",
   "execution_count": 422,
   "metadata": {},
   "outputs": [
    {
     "data": {
      "text/plain": [
       "0         NOV\n",
       "1         NOV\n",
       "2         NOV\n",
       "3         NOV\n",
       "4         NOV\n",
       "         ... \n",
       "113622    NOV\n",
       "113623    MAY\n",
       "113624    DEC\n",
       "113625    FEB\n",
       "113626    OCT\n",
       "Name: mes, Length: 113627, dtype: object"
      ]
     },
     "execution_count": 422,
     "metadata": {},
     "output_type": "execute_result"
    }
   ],
   "source": [
    "df['mes']= df['fecha_prep'].str[2:5]\n",
    "\n",
    "df['mes']"
   ]
  },
  {
   "cell_type": "code",
   "execution_count": 423,
   "metadata": {},
   "outputs": [
    {
     "data": {
      "text/plain": [
       "0         21\n",
       "1         21\n",
       "2         21\n",
       "3         21\n",
       "4         21\n",
       "          ..\n",
       "113622    26\n",
       "113623    18\n",
       "113624    03\n",
       "113625    03\n",
       "113626    10\n",
       "Name: dia, Length: 113627, dtype: object"
      ]
     },
     "execution_count": 423,
     "metadata": {},
     "output_type": "execute_result"
    }
   ],
   "source": [
    "df['dia'] = df['fecha_prep'].str[:2]\n",
    "\n",
    "df['dia']"
   ]
  },
  {
   "cell_type": "code",
   "execution_count": 424,
   "metadata": {},
   "outputs": [
    {
     "data": {
      "text/plain": [
       "FECHA               0\n",
       "CO_CENTENARIO     242\n",
       "NO2_CENTENARIO    241\n",
       "dtype: int64"
      ]
     },
     "execution_count": 424,
     "metadata": {},
     "output_type": "execute_result"
    }
   ],
   "source": [
    "df_centenario = df[['FECHA','CO_CENTENARIO','NO2_CENTENARIO']]\n",
    "#Columns with null values\n",
    "df_centenario.isnull().sum()"
   ]
  },
  {
   "cell_type": "code",
   "execution_count": 425,
   "metadata": {},
   "outputs": [
    {
     "data": {
      "text/plain": [
       "(113627, 3)"
      ]
     },
     "execution_count": 425,
     "metadata": {},
     "output_type": "execute_result"
    }
   ],
   "source": [
    "df_centenario.shape"
   ]
  },
  {
   "cell_type": "code",
   "execution_count": 426,
   "metadata": {},
   "outputs": [
    {
     "data": {
      "text/plain": [
       "483"
      ]
     },
     "execution_count": 426,
     "metadata": {},
     "output_type": "execute_result"
    }
   ],
   "source": [
    "#Total of null values\n",
    "df_centenario.isnull().sum().sum()"
   ]
  },
  {
   "cell_type": "code",
   "execution_count": 427,
   "metadata": {},
   "outputs": [
    {
     "data": {
      "text/html": [
       "<div>\n",
       "<style scoped>\n",
       "    .dataframe tbody tr th:only-of-type {\n",
       "        vertical-align: middle;\n",
       "    }\n",
       "\n",
       "    .dataframe tbody tr th {\n",
       "        vertical-align: top;\n",
       "    }\n",
       "\n",
       "    .dataframe thead th {\n",
       "        text-align: right;\n",
       "    }\n",
       "</style>\n",
       "<table border=\"1\" class=\"dataframe\">\n",
       "  <thead>\n",
       "    <tr style=\"text-align: right;\">\n",
       "      <th></th>\n",
       "      <th>FECHA</th>\n",
       "      <th>CO_CENTENARIO</th>\n",
       "      <th>NO2_CENTENARIO</th>\n",
       "    </tr>\n",
       "  </thead>\n",
       "  <tbody>\n",
       "    <tr>\n",
       "      <th>271</th>\n",
       "      <td>18JAN2010:00:00:00</td>\n",
       "      <td>NaN</td>\n",
       "      <td>NaN</td>\n",
       "    </tr>\n",
       "    <tr>\n",
       "      <th>1031</th>\n",
       "      <td>19JAN2011:00:00:00</td>\n",
       "      <td>NaN</td>\n",
       "      <td>NaN</td>\n",
       "    </tr>\n",
       "    <tr>\n",
       "      <th>1313</th>\n",
       "      <td>09OCT2010:00:00:00</td>\n",
       "      <td>NaN</td>\n",
       "      <td>NaN</td>\n",
       "    </tr>\n",
       "    <tr>\n",
       "      <th>2277</th>\n",
       "      <td>19APR2012:00:00:00</td>\n",
       "      <td>NaN</td>\n",
       "      <td>NaN</td>\n",
       "    </tr>\n",
       "    <tr>\n",
       "      <th>2278</th>\n",
       "      <td>19APR2012:00:00:00</td>\n",
       "      <td>NaN</td>\n",
       "      <td>NaN</td>\n",
       "    </tr>\n",
       "    <tr>\n",
       "      <th>...</th>\n",
       "      <td>...</td>\n",
       "      <td>...</td>\n",
       "      <td>...</td>\n",
       "    </tr>\n",
       "    <tr>\n",
       "      <th>112099</th>\n",
       "      <td>01OCT2018:00:00:00</td>\n",
       "      <td>NaN</td>\n",
       "      <td>NaN</td>\n",
       "    </tr>\n",
       "    <tr>\n",
       "      <th>113060</th>\n",
       "      <td>31MAY2019:00:00:00</td>\n",
       "      <td>NaN</td>\n",
       "      <td>NaN</td>\n",
       "    </tr>\n",
       "    <tr>\n",
       "      <th>113436</th>\n",
       "      <td>01JUN2019:00:00:00</td>\n",
       "      <td>NaN</td>\n",
       "      <td>NaN</td>\n",
       "    </tr>\n",
       "    <tr>\n",
       "      <th>113528</th>\n",
       "      <td>29JAN2020:00:00:00</td>\n",
       "      <td>NaN</td>\n",
       "      <td>NaN</td>\n",
       "    </tr>\n",
       "    <tr>\n",
       "      <th>113589</th>\n",
       "      <td>31MAY2019:00:00:00</td>\n",
       "      <td>NaN</td>\n",
       "      <td>NaN</td>\n",
       "    </tr>\n",
       "  </tbody>\n",
       "</table>\n",
       "<p>242 rows × 3 columns</p>\n",
       "</div>"
      ],
      "text/plain": [
       "                     FECHA CO_CENTENARIO NO2_CENTENARIO\n",
       "271     18JAN2010:00:00:00           NaN            NaN\n",
       "1031    19JAN2011:00:00:00           NaN            NaN\n",
       "1313    09OCT2010:00:00:00           NaN            NaN\n",
       "2277    19APR2012:00:00:00           NaN            NaN\n",
       "2278    19APR2012:00:00:00           NaN            NaN\n",
       "...                    ...           ...            ...\n",
       "112099  01OCT2018:00:00:00           NaN            NaN\n",
       "113060  31MAY2019:00:00:00           NaN            NaN\n",
       "113436  01JUN2019:00:00:00           NaN            NaN\n",
       "113528  29JAN2020:00:00:00           NaN            NaN\n",
       "113589  31MAY2019:00:00:00           NaN            NaN\n",
       "\n",
       "[242 rows x 3 columns]"
      ]
     },
     "execution_count": 427,
     "metadata": {},
     "output_type": "execute_result"
    }
   ],
   "source": [
    "df_centenario[df_centenario.isnull().any(axis=1)]"
   ]
  },
  {
   "cell_type": "code",
   "execution_count": 428,
   "metadata": {},
   "outputs": [],
   "source": [
    "index =df_centenario[df_centenario.isnull().any(axis=1)].index"
   ]
  },
  {
   "cell_type": "code",
   "execution_count": 429,
   "metadata": {},
   "outputs": [
    {
     "data": {
      "text/html": [
       "<div>\n",
       "<style scoped>\n",
       "    .dataframe tbody tr th:only-of-type {\n",
       "        vertical-align: middle;\n",
       "    }\n",
       "\n",
       "    .dataframe tbody tr th {\n",
       "        vertical-align: top;\n",
       "    }\n",
       "\n",
       "    .dataframe thead th {\n",
       "        text-align: right;\n",
       "    }\n",
       "</style>\n",
       "<table border=\"1\" class=\"dataframe\">\n",
       "  <thead>\n",
       "    <tr style=\"text-align: right;\">\n",
       "      <th></th>\n",
       "      <th>FECHA</th>\n",
       "      <th>CO_CENTENARIO</th>\n",
       "      <th>NO2_CENTENARIO</th>\n",
       "    </tr>\n",
       "  </thead>\n",
       "  <tbody>\n",
       "    <tr>\n",
       "      <th>0</th>\n",
       "      <td>21NOV2009:00:00:00</td>\n",
       "      <td>0.39</td>\n",
       "      <td>17</td>\n",
       "    </tr>\n",
       "    <tr>\n",
       "      <th>1</th>\n",
       "      <td>21NOV2009:00:00:00</td>\n",
       "      <td>0.68</td>\n",
       "      <td>15</td>\n",
       "    </tr>\n",
       "    <tr>\n",
       "      <th>2</th>\n",
       "      <td>21NOV2009:00:00:00</td>\n",
       "      <td>0.81</td>\n",
       "      <td>20</td>\n",
       "    </tr>\n",
       "    <tr>\n",
       "      <th>3</th>\n",
       "      <td>21NOV2009:00:00:00</td>\n",
       "      <td>0.85</td>\n",
       "      <td>21</td>\n",
       "    </tr>\n",
       "    <tr>\n",
       "      <th>4</th>\n",
       "      <td>21NOV2009:00:00:00</td>\n",
       "      <td>0.93</td>\n",
       "      <td>22</td>\n",
       "    </tr>\n",
       "    <tr>\n",
       "      <th>...</th>\n",
       "      <td>...</td>\n",
       "      <td>...</td>\n",
       "      <td>...</td>\n",
       "    </tr>\n",
       "    <tr>\n",
       "      <th>113622</th>\n",
       "      <td>26NOV2009:00:00:00</td>\n",
       "      <td>0.69</td>\n",
       "      <td>41</td>\n",
       "    </tr>\n",
       "    <tr>\n",
       "      <th>113623</th>\n",
       "      <td>18MAY2019:00:00:00</td>\n",
       "      <td>0.56</td>\n",
       "      <td>7</td>\n",
       "    </tr>\n",
       "    <tr>\n",
       "      <th>113624</th>\n",
       "      <td>03DEC2014:00:00:00</td>\n",
       "      <td>0.68</td>\n",
       "      <td>20</td>\n",
       "    </tr>\n",
       "    <tr>\n",
       "      <th>113625</th>\n",
       "      <td>03FEB2019:00:00:00</td>\n",
       "      <td>0.13</td>\n",
       "      <td>6</td>\n",
       "    </tr>\n",
       "    <tr>\n",
       "      <th>113626</th>\n",
       "      <td>10OCT2018:00:00:00</td>\n",
       "      <td>0.25</td>\n",
       "      <td>22</td>\n",
       "    </tr>\n",
       "  </tbody>\n",
       "</table>\n",
       "<p>113385 rows × 3 columns</p>\n",
       "</div>"
      ],
      "text/plain": [
       "                     FECHA CO_CENTENARIO NO2_CENTENARIO\n",
       "0       21NOV2009:00:00:00          0.39             17\n",
       "1       21NOV2009:00:00:00          0.68             15\n",
       "2       21NOV2009:00:00:00          0.81             20\n",
       "3       21NOV2009:00:00:00          0.85             21\n",
       "4       21NOV2009:00:00:00          0.93             22\n",
       "...                    ...           ...            ...\n",
       "113622  26NOV2009:00:00:00          0.69             41\n",
       "113623  18MAY2019:00:00:00          0.56              7\n",
       "113624  03DEC2014:00:00:00          0.68             20\n",
       "113625  03FEB2019:00:00:00          0.13              6\n",
       "113626  10OCT2018:00:00:00          0.25             22\n",
       "\n",
       "[113385 rows x 3 columns]"
      ]
     },
     "execution_count": 429,
     "metadata": {},
     "output_type": "execute_result"
    }
   ],
   "source": [
    "df_centenario.drop(index)"
   ]
  },
  {
   "cell_type": "code",
   "execution_count": 430,
   "metadata": {},
   "outputs": [
    {
     "name": "stderr",
     "output_type": "stream",
     "text": [
      "c:\\Users\\LENOVO\\AppData\\Local\\Programs\\Python\\Python310\\lib\\site-packages\\pandas\\core\\indexing.py:1667: SettingWithCopyWarning: \n",
      "A value is trying to be set on a copy of a slice from a DataFrame.\n",
      "Try using .loc[row_indexer,col_indexer] = value instead\n",
      "\n",
      "See the caveats in the documentation: https://pandas.pydata.org/pandas-docs/stable/user_guide/indexing.html#returning-a-view-versus-a-copy\n",
      "  self.obj[key] = value\n"
     ]
    }
   ],
   "source": [
    "#df_centenario['fecha_'] =df_centenario['FECHA'].str[:9]\n",
    "\n",
    "df_centenario.loc[:,'Fecha'] = df_centenario['FECHA'].str[:9]"
   ]
  },
  {
   "cell_type": "code",
   "execution_count": 431,
   "metadata": {},
   "outputs": [
    {
     "data": {
      "text/html": [
       "<div>\n",
       "<style scoped>\n",
       "    .dataframe tbody tr th:only-of-type {\n",
       "        vertical-align: middle;\n",
       "    }\n",
       "\n",
       "    .dataframe tbody tr th {\n",
       "        vertical-align: top;\n",
       "    }\n",
       "\n",
       "    .dataframe thead th {\n",
       "        text-align: right;\n",
       "    }\n",
       "</style>\n",
       "<table border=\"1\" class=\"dataframe\">\n",
       "  <thead>\n",
       "    <tr style=\"text-align: right;\">\n",
       "      <th></th>\n",
       "      <th>FECHA</th>\n",
       "      <th>CO_CENTENARIO</th>\n",
       "      <th>NO2_CENTENARIO</th>\n",
       "      <th>Fecha</th>\n",
       "    </tr>\n",
       "  </thead>\n",
       "  <tbody>\n",
       "    <tr>\n",
       "      <th>0</th>\n",
       "      <td>21NOV2009:00:00:00</td>\n",
       "      <td>0.39</td>\n",
       "      <td>17</td>\n",
       "      <td>21NOV2009</td>\n",
       "    </tr>\n",
       "    <tr>\n",
       "      <th>1</th>\n",
       "      <td>21NOV2009:00:00:00</td>\n",
       "      <td>0.68</td>\n",
       "      <td>15</td>\n",
       "      <td>21NOV2009</td>\n",
       "    </tr>\n",
       "    <tr>\n",
       "      <th>2</th>\n",
       "      <td>21NOV2009:00:00:00</td>\n",
       "      <td>0.81</td>\n",
       "      <td>20</td>\n",
       "      <td>21NOV2009</td>\n",
       "    </tr>\n",
       "    <tr>\n",
       "      <th>3</th>\n",
       "      <td>21NOV2009:00:00:00</td>\n",
       "      <td>0.85</td>\n",
       "      <td>21</td>\n",
       "      <td>21NOV2009</td>\n",
       "    </tr>\n",
       "    <tr>\n",
       "      <th>4</th>\n",
       "      <td>21NOV2009:00:00:00</td>\n",
       "      <td>0.93</td>\n",
       "      <td>22</td>\n",
       "      <td>21NOV2009</td>\n",
       "    </tr>\n",
       "    <tr>\n",
       "      <th>...</th>\n",
       "      <td>...</td>\n",
       "      <td>...</td>\n",
       "      <td>...</td>\n",
       "      <td>...</td>\n",
       "    </tr>\n",
       "    <tr>\n",
       "      <th>113622</th>\n",
       "      <td>26NOV2009:00:00:00</td>\n",
       "      <td>0.69</td>\n",
       "      <td>41</td>\n",
       "      <td>26NOV2009</td>\n",
       "    </tr>\n",
       "    <tr>\n",
       "      <th>113623</th>\n",
       "      <td>18MAY2019:00:00:00</td>\n",
       "      <td>0.56</td>\n",
       "      <td>7</td>\n",
       "      <td>18MAY2019</td>\n",
       "    </tr>\n",
       "    <tr>\n",
       "      <th>113624</th>\n",
       "      <td>03DEC2014:00:00:00</td>\n",
       "      <td>0.68</td>\n",
       "      <td>20</td>\n",
       "      <td>03DEC2014</td>\n",
       "    </tr>\n",
       "    <tr>\n",
       "      <th>113625</th>\n",
       "      <td>03FEB2019:00:00:00</td>\n",
       "      <td>0.13</td>\n",
       "      <td>6</td>\n",
       "      <td>03FEB2019</td>\n",
       "    </tr>\n",
       "    <tr>\n",
       "      <th>113626</th>\n",
       "      <td>10OCT2018:00:00:00</td>\n",
       "      <td>0.25</td>\n",
       "      <td>22</td>\n",
       "      <td>10OCT2018</td>\n",
       "    </tr>\n",
       "  </tbody>\n",
       "</table>\n",
       "<p>113627 rows × 4 columns</p>\n",
       "</div>"
      ],
      "text/plain": [
       "                     FECHA CO_CENTENARIO NO2_CENTENARIO      Fecha\n",
       "0       21NOV2009:00:00:00          0.39             17  21NOV2009\n",
       "1       21NOV2009:00:00:00          0.68             15  21NOV2009\n",
       "2       21NOV2009:00:00:00          0.81             20  21NOV2009\n",
       "3       21NOV2009:00:00:00          0.85             21  21NOV2009\n",
       "4       21NOV2009:00:00:00          0.93             22  21NOV2009\n",
       "...                    ...           ...            ...        ...\n",
       "113622  26NOV2009:00:00:00          0.69             41  26NOV2009\n",
       "113623  18MAY2019:00:00:00          0.56              7  18MAY2019\n",
       "113624  03DEC2014:00:00:00          0.68             20  03DEC2014\n",
       "113625  03FEB2019:00:00:00          0.13              6  03FEB2019\n",
       "113626  10OCT2018:00:00:00          0.25             22  10OCT2018\n",
       "\n",
       "[113627 rows x 4 columns]"
      ]
     },
     "execution_count": 431,
     "metadata": {},
     "output_type": "execute_result"
    }
   ],
   "source": [
    "df_centenario"
   ]
  },
  {
   "cell_type": "code",
   "execution_count": 432,
   "metadata": {},
   "outputs": [
    {
     "data": {
      "text/plain": [
       "FECHA             object\n",
       "CO_CENTENARIO     object\n",
       "NO2_CENTENARIO    object\n",
       "Fecha             object\n",
       "dtype: object"
      ]
     },
     "execution_count": 432,
     "metadata": {},
     "output_type": "execute_result"
    }
   ],
   "source": [
    "df_centenario.dtypes"
   ]
  },
  {
   "cell_type": "code",
   "execution_count": 433,
   "metadata": {},
   "outputs": [
    {
     "data": {
      "text/plain": [
       "s/d      27373\n",
       "0.40      2109\n",
       "0.41      2054\n",
       "0.43      2054\n",
       "0.44      2051\n",
       "         ...  \n",
       "2.36         1\n",
       "5.04         1\n",
       "5.14         1\n",
       "4.68         1\n",
       "22.38        1\n",
       "Name: CO_CENTENARIO, Length: 367, dtype: int64"
      ]
     },
     "execution_count": 433,
     "metadata": {},
     "output_type": "execute_result"
    }
   ],
   "source": [
    "df_centenario['CO_CENTENARIO'].value_counts()"
   ]
  },
  {
   "cell_type": "code",
   "execution_count": 434,
   "metadata": {},
   "outputs": [
    {
     "data": {
      "text/plain": [
       "s/d      21462\n",
       "17        4212\n",
       "14        4206\n",
       "13        4175\n",
       "15        4160\n",
       "         ...  \n",
       "8.00         1\n",
       "43.00        1\n",
       "155          1\n",
       "19.00        1\n",
       "9.00         1\n",
       "Name: NO2_CENTENARIO, Length: 119, dtype: int64"
      ]
     },
     "execution_count": 434,
     "metadata": {},
     "output_type": "execute_result"
    }
   ],
   "source": [
    "df_centenario['NO2_CENTENARIO'].value_counts()"
   ]
  },
  {
   "cell_type": "code",
   "execution_count": 435,
   "metadata": {},
   "outputs": [
    {
     "name": "stderr",
     "output_type": "stream",
     "text": [
      "C:\\Users\\LENOVO\\AppData\\Local\\Temp\\ipykernel_8504\\3884878313.py:5: SettingWithCopyWarning: \n",
      "A value is trying to be set on a copy of a slice from a DataFrame.\n",
      "Try using .loc[row_indexer,col_indexer] = value instead\n",
      "\n",
      "See the caveats in the documentation: https://pandas.pydata.org/pandas-docs/stable/user_guide/indexing.html#returning-a-view-versus-a-copy\n",
      "  df_centenario['CO_CENTENARIO']=df_centenario['CO_CENTENARIO'].replace(\"s/d\",0)\n",
      "C:\\Users\\LENOVO\\AppData\\Local\\Temp\\ipykernel_8504\\3884878313.py:6: SettingWithCopyWarning: \n",
      "A value is trying to be set on a copy of a slice from a DataFrame.\n",
      "Try using .loc[row_indexer,col_indexer] = value instead\n",
      "\n",
      "See the caveats in the documentation: https://pandas.pydata.org/pandas-docs/stable/user_guide/indexing.html#returning-a-view-versus-a-copy\n",
      "  df_centenario['NO2_CENTENARIO']=df_centenario['NO2_CENTENARIO'].replace(\"s/d\",0)\n"
     ]
    }
   ],
   "source": [
    "code = {\"s/d\": 0}\n",
    "#df_centenario['NO2_CENTENARIO'] = df_centenario['NO2_CENTENARIO'].map(code)\n",
    "#df_centenario['CO_CENTENARIO'] = df_centenario['CO_CENTENARIO'].map(code)\n",
    "\n",
    "df_centenario['CO_CENTENARIO']=df_centenario['CO_CENTENARIO'].replace(\"s/d\",0)\n",
    "df_centenario['NO2_CENTENARIO']=df_centenario['NO2_CENTENARIO'].replace(\"s/d\",0)\n",
    "\n"
   ]
  },
  {
   "cell_type": "code",
   "execution_count": 436,
   "metadata": {},
   "outputs": [
    {
     "data": {
      "text/plain": [
       "0        27373\n",
       "0.40      2109\n",
       "0.41      2054\n",
       "0.43      2054\n",
       "0.44      2051\n",
       "         ...  \n",
       "2.36         1\n",
       "5.04         1\n",
       "5.14         1\n",
       "4.68         1\n",
       "22.38        1\n",
       "Name: CO_CENTENARIO, Length: 367, dtype: int64"
      ]
     },
     "execution_count": 436,
     "metadata": {},
     "output_type": "execute_result"
    }
   ],
   "source": [
    "df_centenario['CO_CENTENARIO'].value_counts()"
   ]
  },
  {
   "cell_type": "code",
   "execution_count": 437,
   "metadata": {},
   "outputs": [
    {
     "data": {
      "text/plain": [
       "0        21462\n",
       "17        4212\n",
       "14        4206\n",
       "13        4175\n",
       "15        4160\n",
       "         ...  \n",
       "8.00         1\n",
       "43.00        1\n",
       "155          1\n",
       "19.00        1\n",
       "9.00         1\n",
       "Name: NO2_CENTENARIO, Length: 119, dtype: int64"
      ]
     },
     "execution_count": 437,
     "metadata": {},
     "output_type": "execute_result"
    }
   ],
   "source": [
    "df_centenario['NO2_CENTENARIO'].value_counts()"
   ]
  },
  {
   "cell_type": "code",
   "execution_count": 438,
   "metadata": {},
   "outputs": [],
   "source": [
    "import re"
   ]
  },
  {
   "cell_type": "code",
   "execution_count": 439,
   "metadata": {},
   "outputs": [
    {
     "ename": "TypeError",
     "evalue": "expected string or bytes-like object",
     "output_type": "error",
     "traceback": [
      "\u001b[1;31m---------------------------------------------------------------------------\u001b[0m",
      "\u001b[1;31mTypeError\u001b[0m                                 Traceback (most recent call last)",
      "Cell \u001b[1;32mIn [439], line 1\u001b[0m\n\u001b[1;32m----> 1\u001b[0m re\u001b[39m.\u001b[39;49mmatch(\u001b[39mr\u001b[39;49m\u001b[39m'\u001b[39;49m\u001b[39m^([\u001b[39;49m\u001b[39m\\\u001b[39;49m\u001b[39ms\u001b[39;49m\u001b[39m\\\u001b[39;49m\u001b[39md]+)$\u001b[39;49m\u001b[39m'\u001b[39;49m, df_centenario[\u001b[39m'\u001b[39;49m\u001b[39mCO_CENTENARIO\u001b[39;49m\u001b[39m'\u001b[39;49m])\n",
      "File \u001b[1;32mc:\\Users\\LENOVO\\AppData\\Local\\Programs\\Python\\Python310\\lib\\re.py:190\u001b[0m, in \u001b[0;36mmatch\u001b[1;34m(pattern, string, flags)\u001b[0m\n\u001b[0;32m    187\u001b[0m \u001b[39mdef\u001b[39;00m \u001b[39mmatch\u001b[39m(pattern, string, flags\u001b[39m=\u001b[39m\u001b[39m0\u001b[39m):\n\u001b[0;32m    188\u001b[0m     \u001b[39m\"\"\"Try to apply the pattern at the start of the string, returning\u001b[39;00m\n\u001b[0;32m    189\u001b[0m \u001b[39m    a Match object, or None if no match was found.\"\"\"\u001b[39;00m\n\u001b[1;32m--> 190\u001b[0m     \u001b[39mreturn\u001b[39;00m _compile(pattern, flags)\u001b[39m.\u001b[39;49mmatch(string)\n",
      "\u001b[1;31mTypeError\u001b[0m: expected string or bytes-like object"
     ]
    }
   ],
   "source": [
    "re.match(r'^([\\s\\d]+)$', df_centenario['CO_CENTENARIO'])"
   ]
  },
  {
   "cell_type": "code",
   "execution_count": null,
   "metadata": {},
   "outputs": [
    {
     "ename": "AttributeError",
     "evalue": "Can only use .str accessor with string values!",
     "output_type": "error",
     "traceback": [
      "\u001b[1;31m---------------------------------------------------------------------------\u001b[0m",
      "\u001b[1;31mAttributeError\u001b[0m                            Traceback (most recent call last)",
      "Cell \u001b[1;32mIn [385], line 1\u001b[0m\n\u001b[1;32m----> 1\u001b[0m df_centenario[\u001b[39m\"\u001b[39m\u001b[39mCO_CENTENARIO\u001b[39m\u001b[39m\"\u001b[39m]\u001b[39m=\u001b[39m df_centenario[\u001b[39m'\u001b[39;49m\u001b[39mCO_CENTENARIO\u001b[39;49m\u001b[39m'\u001b[39;49m]\u001b[39m.\u001b[39;49mstr\u001b[39m.\u001b[39mreplace(\u001b[39m\"\u001b[39m\u001b[39m<\u001b[39m\u001b[39m\"\u001b[39m, \u001b[39m\"\u001b[39m\u001b[39m\"\u001b[39m)\n\u001b[0;32m      3\u001b[0m df_centenario[\u001b[39m\"\u001b[39m\u001b[39mCO_CENTENARIO\u001b[39m\u001b[39m\"\u001b[39m]\u001b[39m=\u001b[39m df_centenario[\u001b[39m'\u001b[39m\u001b[39mCO_CENTENARIO\u001b[39m\u001b[39m'\u001b[39m]\u001b[39m.\u001b[39mstr\u001b[39m.\u001b[39misdigit()\n\u001b[0;32m      5\u001b[0m df_centenario[\u001b[39m'\u001b[39m\u001b[39mCO_CENTENARIO\u001b[39m\u001b[39m'\u001b[39m]\u001b[39m.\u001b[39mvalue_counts()\n",
      "File \u001b[1;32mc:\\Users\\LENOVO\\AppData\\Local\\Programs\\Python\\Python310\\lib\\site-packages\\pandas\\core\\generic.py:5487\u001b[0m, in \u001b[0;36mNDFrame.__getattr__\u001b[1;34m(self, name)\u001b[0m\n\u001b[0;32m   5480\u001b[0m \u001b[39mif\u001b[39;00m (\n\u001b[0;32m   5481\u001b[0m     name \u001b[39mnot\u001b[39;00m \u001b[39min\u001b[39;00m \u001b[39mself\u001b[39m\u001b[39m.\u001b[39m_internal_names_set\n\u001b[0;32m   5482\u001b[0m     \u001b[39mand\u001b[39;00m name \u001b[39mnot\u001b[39;00m \u001b[39min\u001b[39;00m \u001b[39mself\u001b[39m\u001b[39m.\u001b[39m_metadata\n\u001b[0;32m   5483\u001b[0m     \u001b[39mand\u001b[39;00m name \u001b[39mnot\u001b[39;00m \u001b[39min\u001b[39;00m \u001b[39mself\u001b[39m\u001b[39m.\u001b[39m_accessors\n\u001b[0;32m   5484\u001b[0m     \u001b[39mand\u001b[39;00m \u001b[39mself\u001b[39m\u001b[39m.\u001b[39m_info_axis\u001b[39m.\u001b[39m_can_hold_identifiers_and_holds_name(name)\n\u001b[0;32m   5485\u001b[0m ):\n\u001b[0;32m   5486\u001b[0m     \u001b[39mreturn\u001b[39;00m \u001b[39mself\u001b[39m[name]\n\u001b[1;32m-> 5487\u001b[0m \u001b[39mreturn\u001b[39;00m \u001b[39mobject\u001b[39;49m\u001b[39m.\u001b[39;49m\u001b[39m__getattribute__\u001b[39;49m(\u001b[39mself\u001b[39;49m, name)\n",
      "File \u001b[1;32mc:\\Users\\LENOVO\\AppData\\Local\\Programs\\Python\\Python310\\lib\\site-packages\\pandas\\core\\accessor.py:181\u001b[0m, in \u001b[0;36mCachedAccessor.__get__\u001b[1;34m(self, obj, cls)\u001b[0m\n\u001b[0;32m    178\u001b[0m \u001b[39mif\u001b[39;00m obj \u001b[39mis\u001b[39;00m \u001b[39mNone\u001b[39;00m:\n\u001b[0;32m    179\u001b[0m     \u001b[39m# we're accessing the attribute of the class, i.e., Dataset.geo\u001b[39;00m\n\u001b[0;32m    180\u001b[0m     \u001b[39mreturn\u001b[39;00m \u001b[39mself\u001b[39m\u001b[39m.\u001b[39m_accessor\n\u001b[1;32m--> 181\u001b[0m accessor_obj \u001b[39m=\u001b[39m \u001b[39mself\u001b[39;49m\u001b[39m.\u001b[39;49m_accessor(obj)\n\u001b[0;32m    182\u001b[0m \u001b[39m# Replace the property with the accessor object. Inspired by:\u001b[39;00m\n\u001b[0;32m    183\u001b[0m \u001b[39m# https://www.pydanny.com/cached-property.html\u001b[39;00m\n\u001b[0;32m    184\u001b[0m \u001b[39m# We need to use object.__setattr__ because we overwrite __setattr__ on\u001b[39;00m\n\u001b[0;32m    185\u001b[0m \u001b[39m# NDFrame\u001b[39;00m\n\u001b[0;32m    186\u001b[0m \u001b[39mobject\u001b[39m\u001b[39m.\u001b[39m\u001b[39m__setattr__\u001b[39m(obj, \u001b[39mself\u001b[39m\u001b[39m.\u001b[39m_name, accessor_obj)\n",
      "File \u001b[1;32mc:\\Users\\LENOVO\\AppData\\Local\\Programs\\Python\\Python310\\lib\\site-packages\\pandas\\core\\strings\\accessor.py:168\u001b[0m, in \u001b[0;36mStringMethods.__init__\u001b[1;34m(self, data)\u001b[0m\n\u001b[0;32m    165\u001b[0m \u001b[39mdef\u001b[39;00m \u001b[39m__init__\u001b[39m(\u001b[39mself\u001b[39m, data):\n\u001b[0;32m    166\u001b[0m     \u001b[39mfrom\u001b[39;00m \u001b[39mpandas\u001b[39;00m\u001b[39m.\u001b[39;00m\u001b[39mcore\u001b[39;00m\u001b[39m.\u001b[39;00m\u001b[39marrays\u001b[39;00m\u001b[39m.\u001b[39;00m\u001b[39mstring_\u001b[39;00m \u001b[39mimport\u001b[39;00m StringDtype\n\u001b[1;32m--> 168\u001b[0m     \u001b[39mself\u001b[39m\u001b[39m.\u001b[39m_inferred_dtype \u001b[39m=\u001b[39m \u001b[39mself\u001b[39;49m\u001b[39m.\u001b[39;49m_validate(data)\n\u001b[0;32m    169\u001b[0m     \u001b[39mself\u001b[39m\u001b[39m.\u001b[39m_is_categorical \u001b[39m=\u001b[39m is_categorical_dtype(data\u001b[39m.\u001b[39mdtype)\n\u001b[0;32m    170\u001b[0m     \u001b[39mself\u001b[39m\u001b[39m.\u001b[39m_is_string \u001b[39m=\u001b[39m \u001b[39misinstance\u001b[39m(data\u001b[39m.\u001b[39mdtype, StringDtype)\n",
      "File \u001b[1;32mc:\\Users\\LENOVO\\AppData\\Local\\Programs\\Python\\Python310\\lib\\site-packages\\pandas\\core\\strings\\accessor.py:225\u001b[0m, in \u001b[0;36mStringMethods._validate\u001b[1;34m(data)\u001b[0m\n\u001b[0;32m    222\u001b[0m inferred_dtype \u001b[39m=\u001b[39m lib\u001b[39m.\u001b[39minfer_dtype(values, skipna\u001b[39m=\u001b[39m\u001b[39mTrue\u001b[39;00m)\n\u001b[0;32m    224\u001b[0m \u001b[39mif\u001b[39;00m inferred_dtype \u001b[39mnot\u001b[39;00m \u001b[39min\u001b[39;00m allowed_types:\n\u001b[1;32m--> 225\u001b[0m     \u001b[39mraise\u001b[39;00m \u001b[39mAttributeError\u001b[39;00m(\u001b[39m\"\u001b[39m\u001b[39mCan only use .str accessor with string values!\u001b[39m\u001b[39m\"\u001b[39m)\n\u001b[0;32m    226\u001b[0m \u001b[39mreturn\u001b[39;00m inferred_dtype\n",
      "\u001b[1;31mAttributeError\u001b[0m: Can only use .str accessor with string values!"
     ]
    }
   ],
   "source": [
    "df_centenario[\"CO_CENTENARIO\"]= df_centenario['CO_CENTENARIO'].str.replace(\"<\", \"\")\n",
    "\n",
    "#df_centenario[\"CO_CENTENARIO\"]= df_centenario['CO_CENTENARIO'].str.isdigit()\n",
    "\n",
    "df_centenario['CO_CENTENARIO'].value_counts()"
   ]
  },
  {
   "cell_type": "code",
   "execution_count": null,
   "metadata": {},
   "outputs": [
    {
     "ename": "ValueError",
     "evalue": "could not convert string to float: '#REF!'",
     "output_type": "error",
     "traceback": [
      "\u001b[1;31m---------------------------------------------------------------------------\u001b[0m",
      "\u001b[1;31mValueError\u001b[0m                                Traceback (most recent call last)",
      "Cell \u001b[1;32mIn [382], line 1\u001b[0m\n\u001b[1;32m----> 1\u001b[0m df_centenario[\u001b[39m'\u001b[39m\u001b[39mCO_CENTENARIO\u001b[39m\u001b[39m'\u001b[39m] \u001b[39m=\u001b[39m df_centenario[\u001b[39m'\u001b[39;49m\u001b[39mCO_CENTENARIO\u001b[39;49m\u001b[39m'\u001b[39;49m]\u001b[39m.\u001b[39;49mastype(\u001b[39mfloat\u001b[39;49m)\n\u001b[0;32m      2\u001b[0m df_centenario[\u001b[39m'\u001b[39m\u001b[39mNO2_CENTENARIO\u001b[39m\u001b[39m'\u001b[39m]\u001b[39m=\u001b[39m df_centenario[\u001b[39m'\u001b[39m\u001b[39mNO2_CENTENARIO\u001b[39m\u001b[39m'\u001b[39m]\u001b[39m.\u001b[39mastype(\u001b[39mfloat\u001b[39m)\n",
      "File \u001b[1;32mc:\\Users\\LENOVO\\AppData\\Local\\Programs\\Python\\Python310\\lib\\site-packages\\pandas\\core\\generic.py:5815\u001b[0m, in \u001b[0;36mNDFrame.astype\u001b[1;34m(self, dtype, copy, errors)\u001b[0m\n\u001b[0;32m   5808\u001b[0m     results \u001b[39m=\u001b[39m [\n\u001b[0;32m   5809\u001b[0m         \u001b[39mself\u001b[39m\u001b[39m.\u001b[39miloc[:, i]\u001b[39m.\u001b[39mastype(dtype, copy\u001b[39m=\u001b[39mcopy)\n\u001b[0;32m   5810\u001b[0m         \u001b[39mfor\u001b[39;00m i \u001b[39min\u001b[39;00m \u001b[39mrange\u001b[39m(\u001b[39mlen\u001b[39m(\u001b[39mself\u001b[39m\u001b[39m.\u001b[39mcolumns))\n\u001b[0;32m   5811\u001b[0m     ]\n\u001b[0;32m   5813\u001b[0m \u001b[39melse\u001b[39;00m:\n\u001b[0;32m   5814\u001b[0m     \u001b[39m# else, only a single dtype is given\u001b[39;00m\n\u001b[1;32m-> 5815\u001b[0m     new_data \u001b[39m=\u001b[39m \u001b[39mself\u001b[39;49m\u001b[39m.\u001b[39;49m_mgr\u001b[39m.\u001b[39;49mastype(dtype\u001b[39m=\u001b[39;49mdtype, copy\u001b[39m=\u001b[39;49mcopy, errors\u001b[39m=\u001b[39;49merrors)\n\u001b[0;32m   5816\u001b[0m     \u001b[39mreturn\u001b[39;00m \u001b[39mself\u001b[39m\u001b[39m.\u001b[39m_constructor(new_data)\u001b[39m.\u001b[39m__finalize__(\u001b[39mself\u001b[39m, method\u001b[39m=\u001b[39m\u001b[39m\"\u001b[39m\u001b[39mastype\u001b[39m\u001b[39m\"\u001b[39m)\n\u001b[0;32m   5818\u001b[0m \u001b[39m# GH 33113: handle empty frame or series\u001b[39;00m\n",
      "File \u001b[1;32mc:\\Users\\LENOVO\\AppData\\Local\\Programs\\Python\\Python310\\lib\\site-packages\\pandas\\core\\internals\\managers.py:418\u001b[0m, in \u001b[0;36mBaseBlockManager.astype\u001b[1;34m(self, dtype, copy, errors)\u001b[0m\n\u001b[0;32m    417\u001b[0m \u001b[39mdef\u001b[39;00m \u001b[39mastype\u001b[39m(\u001b[39mself\u001b[39m: T, dtype, copy: \u001b[39mbool\u001b[39m \u001b[39m=\u001b[39m \u001b[39mFalse\u001b[39;00m, errors: \u001b[39mstr\u001b[39m \u001b[39m=\u001b[39m \u001b[39m\"\u001b[39m\u001b[39mraise\u001b[39m\u001b[39m\"\u001b[39m) \u001b[39m-\u001b[39m\u001b[39m>\u001b[39m T:\n\u001b[1;32m--> 418\u001b[0m     \u001b[39mreturn\u001b[39;00m \u001b[39mself\u001b[39;49m\u001b[39m.\u001b[39;49mapply(\u001b[39m\"\u001b[39;49m\u001b[39mastype\u001b[39;49m\u001b[39m\"\u001b[39;49m, dtype\u001b[39m=\u001b[39;49mdtype, copy\u001b[39m=\u001b[39;49mcopy, errors\u001b[39m=\u001b[39;49merrors)\n",
      "File \u001b[1;32mc:\\Users\\LENOVO\\AppData\\Local\\Programs\\Python\\Python310\\lib\\site-packages\\pandas\\core\\internals\\managers.py:327\u001b[0m, in \u001b[0;36mBaseBlockManager.apply\u001b[1;34m(self, f, align_keys, ignore_failures, **kwargs)\u001b[0m\n\u001b[0;32m    325\u001b[0m         applied \u001b[39m=\u001b[39m b\u001b[39m.\u001b[39mapply(f, \u001b[39m*\u001b[39m\u001b[39m*\u001b[39mkwargs)\n\u001b[0;32m    326\u001b[0m     \u001b[39melse\u001b[39;00m:\n\u001b[1;32m--> 327\u001b[0m         applied \u001b[39m=\u001b[39m \u001b[39mgetattr\u001b[39m(b, f)(\u001b[39m*\u001b[39m\u001b[39m*\u001b[39mkwargs)\n\u001b[0;32m    328\u001b[0m \u001b[39mexcept\u001b[39;00m (\u001b[39mTypeError\u001b[39;00m, \u001b[39mNotImplementedError\u001b[39;00m):\n\u001b[0;32m    329\u001b[0m     \u001b[39mif\u001b[39;00m \u001b[39mnot\u001b[39;00m ignore_failures:\n",
      "File \u001b[1;32mc:\\Users\\LENOVO\\AppData\\Local\\Programs\\Python\\Python310\\lib\\site-packages\\pandas\\core\\internals\\blocks.py:591\u001b[0m, in \u001b[0;36mBlock.astype\u001b[1;34m(self, dtype, copy, errors)\u001b[0m\n\u001b[0;32m    573\u001b[0m \u001b[39m\"\"\"\u001b[39;00m\n\u001b[0;32m    574\u001b[0m \u001b[39mCoerce to the new dtype.\u001b[39;00m\n\u001b[0;32m    575\u001b[0m \n\u001b[1;32m   (...)\u001b[0m\n\u001b[0;32m    587\u001b[0m \u001b[39mBlock\u001b[39;00m\n\u001b[0;32m    588\u001b[0m \u001b[39m\"\"\"\u001b[39;00m\n\u001b[0;32m    589\u001b[0m values \u001b[39m=\u001b[39m \u001b[39mself\u001b[39m\u001b[39m.\u001b[39mvalues\n\u001b[1;32m--> 591\u001b[0m new_values \u001b[39m=\u001b[39m astype_array_safe(values, dtype, copy\u001b[39m=\u001b[39;49mcopy, errors\u001b[39m=\u001b[39;49merrors)\n\u001b[0;32m    593\u001b[0m new_values \u001b[39m=\u001b[39m maybe_coerce_values(new_values)\n\u001b[0;32m    594\u001b[0m newb \u001b[39m=\u001b[39m \u001b[39mself\u001b[39m\u001b[39m.\u001b[39mmake_block(new_values)\n",
      "File \u001b[1;32mc:\\Users\\LENOVO\\AppData\\Local\\Programs\\Python\\Python310\\lib\\site-packages\\pandas\\core\\dtypes\\cast.py:1309\u001b[0m, in \u001b[0;36mastype_array_safe\u001b[1;34m(values, dtype, copy, errors)\u001b[0m\n\u001b[0;32m   1306\u001b[0m dtype \u001b[39m=\u001b[39m pandas_dtype(dtype)\n\u001b[0;32m   1308\u001b[0m \u001b[39mtry\u001b[39;00m:\n\u001b[1;32m-> 1309\u001b[0m     new_values \u001b[39m=\u001b[39m astype_array(values, dtype, copy\u001b[39m=\u001b[39;49mcopy)\n\u001b[0;32m   1310\u001b[0m \u001b[39mexcept\u001b[39;00m (\u001b[39mValueError\u001b[39;00m, \u001b[39mTypeError\u001b[39;00m):\n\u001b[0;32m   1311\u001b[0m     \u001b[39m# e.g. astype_nansafe can fail on object-dtype of strings\u001b[39;00m\n\u001b[0;32m   1312\u001b[0m     \u001b[39m#  trying to convert to float\u001b[39;00m\n\u001b[0;32m   1313\u001b[0m     \u001b[39mif\u001b[39;00m errors \u001b[39m==\u001b[39m \u001b[39m\"\u001b[39m\u001b[39mignore\u001b[39m\u001b[39m\"\u001b[39m:\n",
      "File \u001b[1;32mc:\\Users\\LENOVO\\AppData\\Local\\Programs\\Python\\Python310\\lib\\site-packages\\pandas\\core\\dtypes\\cast.py:1257\u001b[0m, in \u001b[0;36mastype_array\u001b[1;34m(values, dtype, copy)\u001b[0m\n\u001b[0;32m   1254\u001b[0m     values \u001b[39m=\u001b[39m values\u001b[39m.\u001b[39mastype(dtype, copy\u001b[39m=\u001b[39mcopy)\n\u001b[0;32m   1256\u001b[0m \u001b[39melse\u001b[39;00m:\n\u001b[1;32m-> 1257\u001b[0m     values \u001b[39m=\u001b[39m astype_nansafe(values, dtype, copy\u001b[39m=\u001b[39;49mcopy)\n\u001b[0;32m   1259\u001b[0m \u001b[39m# in pandas we don't store numpy str dtypes, so convert to object\u001b[39;00m\n\u001b[0;32m   1260\u001b[0m \u001b[39mif\u001b[39;00m \u001b[39misinstance\u001b[39m(dtype, np\u001b[39m.\u001b[39mdtype) \u001b[39mand\u001b[39;00m \u001b[39missubclass\u001b[39m(values\u001b[39m.\u001b[39mdtype\u001b[39m.\u001b[39mtype, \u001b[39mstr\u001b[39m):\n",
      "File \u001b[1;32mc:\\Users\\LENOVO\\AppData\\Local\\Programs\\Python\\Python310\\lib\\site-packages\\pandas\\core\\dtypes\\cast.py:1201\u001b[0m, in \u001b[0;36mastype_nansafe\u001b[1;34m(arr, dtype, copy, skipna)\u001b[0m\n\u001b[0;32m   1197\u001b[0m     \u001b[39mraise\u001b[39;00m \u001b[39mValueError\u001b[39;00m(msg)\n\u001b[0;32m   1199\u001b[0m \u001b[39mif\u001b[39;00m copy \u001b[39mor\u001b[39;00m is_object_dtype(arr\u001b[39m.\u001b[39mdtype) \u001b[39mor\u001b[39;00m is_object_dtype(dtype):\n\u001b[0;32m   1200\u001b[0m     \u001b[39m# Explicit copy, or required since NumPy can't view from / to object.\u001b[39;00m\n\u001b[1;32m-> 1201\u001b[0m     \u001b[39mreturn\u001b[39;00m arr\u001b[39m.\u001b[39;49mastype(dtype, copy\u001b[39m=\u001b[39;49m\u001b[39mTrue\u001b[39;49;00m)\n\u001b[0;32m   1203\u001b[0m \u001b[39mreturn\u001b[39;00m arr\u001b[39m.\u001b[39mastype(dtype, copy\u001b[39m=\u001b[39mcopy)\n",
      "\u001b[1;31mValueError\u001b[0m: could not convert string to float: '#REF!'"
     ]
    }
   ],
   "source": [
    "df_centenario['CO_CENTENARIO'] = df_centenario['CO_CENTENARIO'].astype(float)\n",
    "df_centenario['NO2_CENTENARIO']= df_centenario['NO2_CENTENARIO'].astype(float)\n"
   ]
  },
  {
   "cell_type": "code",
   "execution_count": null,
   "metadata": {},
   "outputs": [
    {
     "data": {
      "text/plain": [
       "0.0    27373\n",
       "Name: CO_CENTENARIO, dtype: int64"
      ]
     },
     "execution_count": 239,
     "metadata": {},
     "output_type": "execute_result"
    }
   ],
   "source": [
    "df_centenario['CO_CENTENARIO'].value_counts()"
   ]
  },
  {
   "cell_type": "code",
   "execution_count": null,
   "metadata": {},
   "outputs": [
    {
     "data": {
      "text/plain": [
       "0.0      21523\n",
       "17.0      4213\n",
       "14.0      4207\n",
       "13.0      4175\n",
       "15.0      4161\n",
       "         ...  \n",
       "86.0         2\n",
       "155.0        1\n",
       "112.0        1\n",
       "95.0         1\n",
       "98.0         1\n",
       "Name: NO2_CENTENARIO, Length: 92, dtype: int64"
      ]
     },
     "execution_count": 274,
     "metadata": {},
     "output_type": "execute_result"
    }
   ],
   "source": [
    "df_centenario['NO2_CENTENARIO'].value_counts()"
   ]
  },
  {
   "cell_type": "code",
   "execution_count": null,
   "metadata": {},
   "outputs": [
    {
     "name": "stderr",
     "output_type": "stream",
     "text": [
      "C:\\Users\\LENOVO\\AppData\\Local\\Temp\\ipykernel_8504\\817832473.py:1: FutureWarning: Indexing with multiple keys (implicitly converted to a tuple of keys) will be deprecated, use a list instead.\n",
      "  df_centenario.groupby(['Fecha'])[('NO2_CENTENARIO','CO_CENTENARIO')].mean().reset_index()\n",
      "C:\\Users\\LENOVO\\AppData\\Roaming\\Python\\Python310\\site-packages\\IPython\\core\\interactiveshell.py:3378: FutureWarning: Dropping invalid columns in DataFrameGroupBy.mean is deprecated. In a future version, a TypeError will be raised. Before calling .mean, select only columns which should be valid for the function.\n",
      "  exec(code_obj, self.user_global_ns, self.user_ns)\n"
     ]
    },
    {
     "data": {
      "text/html": [
       "<div>\n",
       "<style scoped>\n",
       "    .dataframe tbody tr th:only-of-type {\n",
       "        vertical-align: middle;\n",
       "    }\n",
       "\n",
       "    .dataframe tbody tr th {\n",
       "        vertical-align: top;\n",
       "    }\n",
       "\n",
       "    .dataframe thead th {\n",
       "        text-align: right;\n",
       "    }\n",
       "</style>\n",
       "<table border=\"1\" class=\"dataframe\">\n",
       "  <thead>\n",
       "    <tr style=\"text-align: right;\">\n",
       "      <th></th>\n",
       "      <th>Fecha</th>\n",
       "    </tr>\n",
       "  </thead>\n",
       "  <tbody>\n",
       "    <tr>\n",
       "      <th>0</th>\n",
       "      <td>01APR2010</td>\n",
       "    </tr>\n",
       "    <tr>\n",
       "      <th>1</th>\n",
       "      <td>01APR2011</td>\n",
       "    </tr>\n",
       "    <tr>\n",
       "      <th>2</th>\n",
       "      <td>01APR2012</td>\n",
       "    </tr>\n",
       "    <tr>\n",
       "      <th>3</th>\n",
       "      <td>01APR2013</td>\n",
       "    </tr>\n",
       "    <tr>\n",
       "      <th>4</th>\n",
       "      <td>01APR2014</td>\n",
       "    </tr>\n",
       "    <tr>\n",
       "      <th>...</th>\n",
       "      <td>...</td>\n",
       "    </tr>\n",
       "    <tr>\n",
       "      <th>4765</th>\n",
       "      <td>31OCT2018</td>\n",
       "    </tr>\n",
       "    <tr>\n",
       "      <th>4766</th>\n",
       "      <td>31OCT2019</td>\n",
       "    </tr>\n",
       "    <tr>\n",
       "      <th>4767</th>\n",
       "      <td>31OCT2020</td>\n",
       "    </tr>\n",
       "    <tr>\n",
       "      <th>4768</th>\n",
       "      <td>31OCT2021</td>\n",
       "    </tr>\n",
       "    <tr>\n",
       "      <th>4769</th>\n",
       "      <td>31OCT2022</td>\n",
       "    </tr>\n",
       "  </tbody>\n",
       "</table>\n",
       "<p>4770 rows × 1 columns</p>\n",
       "</div>"
      ],
      "text/plain": [
       "          Fecha\n",
       "0     01APR2010\n",
       "1     01APR2011\n",
       "2     01APR2012\n",
       "3     01APR2013\n",
       "4     01APR2014\n",
       "...         ...\n",
       "4765  31OCT2018\n",
       "4766  31OCT2019\n",
       "4767  31OCT2020\n",
       "4768  31OCT2021\n",
       "4769  31OCT2022\n",
       "\n",
       "[4770 rows x 1 columns]"
      ]
     },
     "execution_count": 329,
     "metadata": {},
     "output_type": "execute_result"
    }
   ],
   "source": [
    "df_centenario.groupby(['Fecha'])[['NO2_CENTENARIO','CO_CENTENARIO']].mean().reset_index()"
   ]
  },
  {
   "cell_type": "code",
   "execution_count": null,
   "metadata": {},
   "outputs": [
    {
     "data": {
      "text/plain": [
       "0.0    27373\n",
       "Name: CO_CENTENARIO, dtype: int64"
      ]
     },
     "execution_count": 241,
     "metadata": {},
     "output_type": "execute_result"
    }
   ],
   "source": [
    "df_centenario['CO_CENTENARIO'].value_counts()"
   ]
  }
 ],
 "metadata": {
  "kernelspec": {
   "display_name": "Python 3.10.4 64-bit",
   "language": "python",
   "name": "python3"
  },
  "language_info": {
   "codemirror_mode": {
    "name": "ipython",
    "version": 3
   },
   "file_extension": ".py",
   "mimetype": "text/x-python",
   "name": "python",
   "nbconvert_exporter": "python",
   "pygments_lexer": "ipython3",
   "version": "3.10.4"
  },
  "orig_nbformat": 4,
  "vscode": {
   "interpreter": {
    "hash": "f2ccb58c476f33ba3e3aee7ac07234ef6b8217ef24ad64d2a7d4fed1a57c1cd2"
   }
  }
 },
 "nbformat": 4,
 "nbformat_minor": 2
}
