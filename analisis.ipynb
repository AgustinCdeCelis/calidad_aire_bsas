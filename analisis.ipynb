{
 "cells": [
  {
   "cell_type": "code",
   "execution_count": 913,
   "metadata": {},
   "outputs": [],
   "source": [
    "import pandas as pd\n",
    "import numpy as np\n",
    "from sklearn.ensemble import RandomForestRegressor,HistGradientBoostingRegressor\n",
    "from sklearn.model_selection import train_test_split\n",
    "import pickle\n",
    "import matplotlib.pyplot as plt"
   ]
  },
  {
   "cell_type": "code",
   "execution_count": 845,
   "metadata": {},
   "outputs": [
    {
     "data": {
      "text/html": [
       "<div>\n",
       "<style scoped>\n",
       "    .dataframe tbody tr th:only-of-type {\n",
       "        vertical-align: middle;\n",
       "    }\n",
       "\n",
       "    .dataframe tbody tr th {\n",
       "        vertical-align: top;\n",
       "    }\n",
       "\n",
       "    .dataframe thead th {\n",
       "        text-align: right;\n",
       "    }\n",
       "</style>\n",
       "<table border=\"1\" class=\"dataframe\">\n",
       "  <thead>\n",
       "    <tr style=\"text-align: right;\">\n",
       "      <th></th>\n",
       "      <th>FECHA</th>\n",
       "      <th>HORA</th>\n",
       "      <th>CO_CENTENARIO</th>\n",
       "      <th>NO2_CENTENARIO</th>\n",
       "      <th>PM10_CENTENARIO</th>\n",
       "      <th>CO_CORDOBA</th>\n",
       "      <th>NO2_CORDOBA</th>\n",
       "      <th>PM10_CORDOBA</th>\n",
       "      <th>CO_LA_BOCA</th>\n",
       "      <th>NO2_LA_BOCA</th>\n",
       "      <th>PM10_LA_BOCA</th>\n",
       "      <th>CO_PALERMO</th>\n",
       "      <th>NO2_PALERMO</th>\n",
       "      <th>PM10_PALERMO</th>\n",
       "    </tr>\n",
       "  </thead>\n",
       "  <tbody>\n",
       "    <tr>\n",
       "      <th>0</th>\n",
       "      <td>21NOV2009:00:00:00</td>\n",
       "      <td>8</td>\n",
       "      <td>0.39</td>\n",
       "      <td>17</td>\n",
       "      <td>NaN</td>\n",
       "      <td>s/d</td>\n",
       "      <td>20</td>\n",
       "      <td>NaN</td>\n",
       "      <td>s/d</td>\n",
       "      <td>18</td>\n",
       "      <td>NaN</td>\n",
       "      <td>0.56</td>\n",
       "      <td>NaN</td>\n",
       "      <td>NaN</td>\n",
       "    </tr>\n",
       "    <tr>\n",
       "      <th>1</th>\n",
       "      <td>21NOV2009:00:00:00</td>\n",
       "      <td>15</td>\n",
       "      <td>0.68</td>\n",
       "      <td>15</td>\n",
       "      <td>NaN</td>\n",
       "      <td>s/d</td>\n",
       "      <td>20</td>\n",
       "      <td>NaN</td>\n",
       "      <td>s/d</td>\n",
       "      <td>16</td>\n",
       "      <td>NaN</td>\n",
       "      <td>1.04</td>\n",
       "      <td>NaN</td>\n",
       "      <td>NaN</td>\n",
       "    </tr>\n",
       "    <tr>\n",
       "      <th>2</th>\n",
       "      <td>21NOV2009:00:00:00</td>\n",
       "      <td>21</td>\n",
       "      <td>0.81</td>\n",
       "      <td>20</td>\n",
       "      <td>NaN</td>\n",
       "      <td>s/d</td>\n",
       "      <td>18</td>\n",
       "      <td>NaN</td>\n",
       "      <td>s/d</td>\n",
       "      <td>23</td>\n",
       "      <td>NaN</td>\n",
       "      <td>1.16</td>\n",
       "      <td>NaN</td>\n",
       "      <td>NaN</td>\n",
       "    </tr>\n",
       "    <tr>\n",
       "      <th>3</th>\n",
       "      <td>21NOV2009:00:00:00</td>\n",
       "      <td>22</td>\n",
       "      <td>0.85</td>\n",
       "      <td>21</td>\n",
       "      <td>NaN</td>\n",
       "      <td>s/d</td>\n",
       "      <td>18</td>\n",
       "      <td>NaN</td>\n",
       "      <td>s/d</td>\n",
       "      <td>18</td>\n",
       "      <td>NaN</td>\n",
       "      <td>1.16</td>\n",
       "      <td>NaN</td>\n",
       "      <td>NaN</td>\n",
       "    </tr>\n",
       "    <tr>\n",
       "      <th>4</th>\n",
       "      <td>21NOV2009:00:00:00</td>\n",
       "      <td>24</td>\n",
       "      <td>0.93</td>\n",
       "      <td>22</td>\n",
       "      <td>NaN</td>\n",
       "      <td>s/d</td>\n",
       "      <td>15</td>\n",
       "      <td>NaN</td>\n",
       "      <td>s/d</td>\n",
       "      <td>25</td>\n",
       "      <td>NaN</td>\n",
       "      <td>1.16</td>\n",
       "      <td>NaN</td>\n",
       "      <td>NaN</td>\n",
       "    </tr>\n",
       "    <tr>\n",
       "      <th>...</th>\n",
       "      <td>...</td>\n",
       "      <td>...</td>\n",
       "      <td>...</td>\n",
       "      <td>...</td>\n",
       "      <td>...</td>\n",
       "      <td>...</td>\n",
       "      <td>...</td>\n",
       "      <td>...</td>\n",
       "      <td>...</td>\n",
       "      <td>...</td>\n",
       "      <td>...</td>\n",
       "      <td>...</td>\n",
       "      <td>...</td>\n",
       "      <td>...</td>\n",
       "    </tr>\n",
       "    <tr>\n",
       "      <th>113622</th>\n",
       "      <td>26NOV2009:00:00:00</td>\n",
       "      <td>9</td>\n",
       "      <td>0.69</td>\n",
       "      <td>41</td>\n",
       "      <td>NaN</td>\n",
       "      <td>s/d</td>\n",
       "      <td>s/d</td>\n",
       "      <td>NaN</td>\n",
       "      <td>s/d</td>\n",
       "      <td>19</td>\n",
       "      <td>NaN</td>\n",
       "      <td>0.41</td>\n",
       "      <td>NaN</td>\n",
       "      <td>NaN</td>\n",
       "    </tr>\n",
       "    <tr>\n",
       "      <th>113623</th>\n",
       "      <td>18MAY2019:00:00:00</td>\n",
       "      <td>3</td>\n",
       "      <td>0.56</td>\n",
       "      <td>7</td>\n",
       "      <td>17</td>\n",
       "      <td>0.51</td>\n",
       "      <td>8</td>\n",
       "      <td>20</td>\n",
       "      <td>0.24</td>\n",
       "      <td>6</td>\n",
       "      <td>32</td>\n",
       "      <td>NaN</td>\n",
       "      <td>NaN</td>\n",
       "      <td>NaN</td>\n",
       "    </tr>\n",
       "    <tr>\n",
       "      <th>113624</th>\n",
       "      <td>03DEC2014:00:00:00</td>\n",
       "      <td>9</td>\n",
       "      <td>0.68</td>\n",
       "      <td>20</td>\n",
       "      <td>35</td>\n",
       "      <td>0.39</td>\n",
       "      <td>22</td>\n",
       "      <td>s/d</td>\n",
       "      <td>s/d</td>\n",
       "      <td>s/d</td>\n",
       "      <td>s/d</td>\n",
       "      <td>NaN</td>\n",
       "      <td>NaN</td>\n",
       "      <td>NaN</td>\n",
       "    </tr>\n",
       "    <tr>\n",
       "      <th>113625</th>\n",
       "      <td>03FEB2019:00:00:00</td>\n",
       "      <td>8</td>\n",
       "      <td>0.13</td>\n",
       "      <td>6</td>\n",
       "      <td>33</td>\n",
       "      <td>0.30</td>\n",
       "      <td>33</td>\n",
       "      <td>29</td>\n",
       "      <td>0.28</td>\n",
       "      <td>3</td>\n",
       "      <td>s/d</td>\n",
       "      <td>NaN</td>\n",
       "      <td>NaN</td>\n",
       "      <td>NaN</td>\n",
       "    </tr>\n",
       "    <tr>\n",
       "      <th>113626</th>\n",
       "      <td>10OCT2018:00:00:00</td>\n",
       "      <td>8</td>\n",
       "      <td>0.25</td>\n",
       "      <td>22</td>\n",
       "      <td>18</td>\n",
       "      <td>0.27</td>\n",
       "      <td>38</td>\n",
       "      <td>27</td>\n",
       "      <td>0.31</td>\n",
       "      <td>21</td>\n",
       "      <td>16</td>\n",
       "      <td>NaN</td>\n",
       "      <td>NaN</td>\n",
       "      <td>NaN</td>\n",
       "    </tr>\n",
       "  </tbody>\n",
       "</table>\n",
       "<p>113627 rows × 14 columns</p>\n",
       "</div>"
      ],
      "text/plain": [
       "                     FECHA  HORA CO_CENTENARIO NO2_CENTENARIO PM10_CENTENARIO  \\\n",
       "0       21NOV2009:00:00:00     8          0.39             17             NaN   \n",
       "1       21NOV2009:00:00:00    15          0.68             15             NaN   \n",
       "2       21NOV2009:00:00:00    21          0.81             20             NaN   \n",
       "3       21NOV2009:00:00:00    22          0.85             21             NaN   \n",
       "4       21NOV2009:00:00:00    24          0.93             22             NaN   \n",
       "...                    ...   ...           ...            ...             ...   \n",
       "113622  26NOV2009:00:00:00     9          0.69             41             NaN   \n",
       "113623  18MAY2019:00:00:00     3          0.56              7              17   \n",
       "113624  03DEC2014:00:00:00     9          0.68             20              35   \n",
       "113625  03FEB2019:00:00:00     8          0.13              6              33   \n",
       "113626  10OCT2018:00:00:00     8          0.25             22              18   \n",
       "\n",
       "       CO_CORDOBA NO2_CORDOBA PM10_CORDOBA CO_LA_BOCA NO2_LA_BOCA  \\\n",
       "0             s/d          20          NaN        s/d          18   \n",
       "1             s/d          20          NaN        s/d          16   \n",
       "2             s/d          18          NaN        s/d          23   \n",
       "3             s/d          18          NaN        s/d          18   \n",
       "4             s/d          15          NaN        s/d          25   \n",
       "...           ...         ...          ...        ...         ...   \n",
       "113622        s/d         s/d          NaN        s/d          19   \n",
       "113623       0.51           8           20       0.24           6   \n",
       "113624       0.39          22          s/d        s/d         s/d   \n",
       "113625       0.30          33           29       0.28           3   \n",
       "113626       0.27          38           27       0.31          21   \n",
       "\n",
       "       PM10_LA_BOCA CO_PALERMO  NO2_PALERMO  PM10_PALERMO  \n",
       "0               NaN       0.56          NaN           NaN  \n",
       "1               NaN       1.04          NaN           NaN  \n",
       "2               NaN       1.16          NaN           NaN  \n",
       "3               NaN       1.16          NaN           NaN  \n",
       "4               NaN       1.16          NaN           NaN  \n",
       "...             ...        ...          ...           ...  \n",
       "113622          NaN       0.41          NaN           NaN  \n",
       "113623           32        NaN          NaN           NaN  \n",
       "113624          s/d        NaN          NaN           NaN  \n",
       "113625          s/d        NaN          NaN           NaN  \n",
       "113626           16        NaN          NaN           NaN  \n",
       "\n",
       "[113627 rows x 14 columns]"
      ]
     },
     "execution_count": 845,
     "metadata": {},
     "output_type": "execute_result"
    }
   ],
   "source": [
    "df = pd.read_csv('calidad-aire.csv')\n",
    "\n",
    "df"
   ]
  },
  {
   "cell_type": "code",
   "execution_count": 846,
   "metadata": {},
   "outputs": [
    {
     "data": {
      "text/plain": [
       "31MAY2019:00:00:00    49\n",
       "01JUN2019:00:00:00    48\n",
       "21DEC2021:00:00:00    41\n",
       "20APR2012:00:00:00    38\n",
       "22DEC2021:00:00:00    38\n",
       "                      ..\n",
       "25MAY2020:00:00:00    12\n",
       "12FEB2010:00:00:00    12\n",
       "17SEP2021:00:00:00    12\n",
       "01OCT2009:00:00:00    11\n",
       "01FEB2016:00:00:00     1\n",
       "Name: FECHA, Length: 4770, dtype: int64"
      ]
     },
     "execution_count": 846,
     "metadata": {},
     "output_type": "execute_result"
    }
   ],
   "source": [
    "df['FECHA'].value_counts()"
   ]
  },
  {
   "cell_type": "code",
   "execution_count": 847,
   "metadata": {},
   "outputs": [
    {
     "data": {
      "text/plain": [
       "FECHA                   0\n",
       "HORA                    0\n",
       "CO_CENTENARIO         242\n",
       "NO2_CENTENARIO        241\n",
       "PM10_CENTENARIO     10548\n",
       "CO_CORDOBA            242\n",
       "NO2_CORDOBA           241\n",
       "PM10_CORDOBA        10548\n",
       "CO_LA_BOCA            239\n",
       "NO2_LA_BOCA           241\n",
       "PM10_LA_BOCA        10545\n",
       "CO_PALERMO         107623\n",
       "NO2_PALERMO        113627\n",
       "PM10_PALERMO       113627\n",
       "dtype: int64"
      ]
     },
     "execution_count": 847,
     "metadata": {},
     "output_type": "execute_result"
    }
   ],
   "source": [
    "df.isnull().sum()"
   ]
  },
  {
   "cell_type": "code",
   "execution_count": 848,
   "metadata": {},
   "outputs": [
    {
     "data": {
      "text/html": [
       "<div>\n",
       "<style scoped>\n",
       "    .dataframe tbody tr th:only-of-type {\n",
       "        vertical-align: middle;\n",
       "    }\n",
       "\n",
       "    .dataframe tbody tr th {\n",
       "        vertical-align: top;\n",
       "    }\n",
       "\n",
       "    .dataframe thead th {\n",
       "        text-align: right;\n",
       "    }\n",
       "</style>\n",
       "<table border=\"1\" class=\"dataframe\">\n",
       "  <thead>\n",
       "    <tr style=\"text-align: right;\">\n",
       "      <th></th>\n",
       "      <th>FECHA</th>\n",
       "      <th>HORA</th>\n",
       "      <th>CO_CENTENARIO</th>\n",
       "      <th>NO2_CENTENARIO</th>\n",
       "      <th>PM10_CENTENARIO</th>\n",
       "      <th>CO_CORDOBA</th>\n",
       "      <th>NO2_CORDOBA</th>\n",
       "      <th>PM10_CORDOBA</th>\n",
       "      <th>CO_LA_BOCA</th>\n",
       "      <th>NO2_LA_BOCA</th>\n",
       "      <th>PM10_LA_BOCA</th>\n",
       "      <th>CO_PALERMO</th>\n",
       "      <th>NO2_PALERMO</th>\n",
       "      <th>PM10_PALERMO</th>\n",
       "    </tr>\n",
       "  </thead>\n",
       "  <tbody>\n",
       "  </tbody>\n",
       "</table>\n",
       "</div>"
      ],
      "text/plain": [
       "Empty DataFrame\n",
       "Columns: [FECHA, HORA, CO_CENTENARIO, NO2_CENTENARIO, PM10_CENTENARIO, CO_CORDOBA, NO2_CORDOBA, PM10_CORDOBA, CO_LA_BOCA, NO2_LA_BOCA, PM10_LA_BOCA, CO_PALERMO, NO2_PALERMO, PM10_PALERMO]\n",
       "Index: []"
      ]
     },
     "execution_count": 848,
     "metadata": {},
     "output_type": "execute_result"
    }
   ],
   "source": [
    "df[df.duplicated()]"
   ]
  },
  {
   "cell_type": "code",
   "execution_count": 849,
   "metadata": {},
   "outputs": [
    {
     "data": {
      "text/plain": [
       "FECHA               object\n",
       "HORA                 int64\n",
       "CO_CENTENARIO       object\n",
       "NO2_CENTENARIO      object\n",
       "PM10_CENTENARIO     object\n",
       "CO_CORDOBA          object\n",
       "NO2_CORDOBA         object\n",
       "PM10_CORDOBA        object\n",
       "CO_LA_BOCA          object\n",
       "NO2_LA_BOCA         object\n",
       "PM10_LA_BOCA        object\n",
       "CO_PALERMO          object\n",
       "NO2_PALERMO        float64\n",
       "PM10_PALERMO       float64\n",
       "dtype: object"
      ]
     },
     "execution_count": 849,
     "metadata": {},
     "output_type": "execute_result"
    }
   ],
   "source": [
    "df.dtypes"
   ]
  },
  {
   "cell_type": "code",
   "execution_count": 850,
   "metadata": {},
   "outputs": [
    {
     "data": {
      "text/plain": [
       "0         21NOV2009\n",
       "1         21NOV2009\n",
       "2         21NOV2009\n",
       "3         21NOV2009\n",
       "4         21NOV2009\n",
       "            ...    \n",
       "113622    26NOV2009\n",
       "113623    18MAY2019\n",
       "113624    03DEC2014\n",
       "113625    03FEB2019\n",
       "113626    10OCT2018\n",
       "Name: fecha_prep, Length: 113627, dtype: object"
      ]
     },
     "execution_count": 850,
     "metadata": {},
     "output_type": "execute_result"
    }
   ],
   "source": [
    "df['fecha_prep'] = df['FECHA'].str[:9]\n",
    "\n",
    "df['fecha_prep']"
   ]
  },
  {
   "cell_type": "code",
   "execution_count": 851,
   "metadata": {},
   "outputs": [
    {
     "data": {
      "text/plain": [
       "0         2009\n",
       "1         2009\n",
       "2         2009\n",
       "3         2009\n",
       "4         2009\n",
       "          ... \n",
       "113622    2009\n",
       "113623    2019\n",
       "113624    2014\n",
       "113625    2019\n",
       "113626    2018\n",
       "Name: year, Length: 113627, dtype: object"
      ]
     },
     "execution_count": 851,
     "metadata": {},
     "output_type": "execute_result"
    }
   ],
   "source": [
    "df['year'] = df['fecha_prep'].str[5:]\n",
    "\n",
    "df['year']"
   ]
  },
  {
   "cell_type": "code",
   "execution_count": 852,
   "metadata": {},
   "outputs": [
    {
     "data": {
      "text/plain": [
       "0         NOV\n",
       "1         NOV\n",
       "2         NOV\n",
       "3         NOV\n",
       "4         NOV\n",
       "         ... \n",
       "113622    NOV\n",
       "113623    MAY\n",
       "113624    DEC\n",
       "113625    FEB\n",
       "113626    OCT\n",
       "Name: mes, Length: 113627, dtype: object"
      ]
     },
     "execution_count": 852,
     "metadata": {},
     "output_type": "execute_result"
    }
   ],
   "source": [
    "df['mes']= df['fecha_prep'].str[2:5]\n",
    "\n",
    "df['mes']"
   ]
  },
  {
   "cell_type": "code",
   "execution_count": 853,
   "metadata": {},
   "outputs": [
    {
     "data": {
      "text/plain": [
       "0         21\n",
       "1         21\n",
       "2         21\n",
       "3         21\n",
       "4         21\n",
       "          ..\n",
       "113622    26\n",
       "113623    18\n",
       "113624    03\n",
       "113625    03\n",
       "113626    10\n",
       "Name: dia, Length: 113627, dtype: object"
      ]
     },
     "execution_count": 853,
     "metadata": {},
     "output_type": "execute_result"
    }
   ],
   "source": [
    "df['dia'] = df['fecha_prep'].str[:2]\n",
    "\n",
    "df['dia']"
   ]
  },
  {
   "cell_type": "code",
   "execution_count": 854,
   "metadata": {},
   "outputs": [
    {
     "data": {
      "text/plain": [
       "FECHA               0\n",
       "CO_CENTENARIO     242\n",
       "NO2_CENTENARIO    241\n",
       "dtype: int64"
      ]
     },
     "execution_count": 854,
     "metadata": {},
     "output_type": "execute_result"
    }
   ],
   "source": [
    "df_centenario = df[['FECHA','CO_CENTENARIO','NO2_CENTENARIO']]\n",
    "#Columns with null values\n",
    "df_centenario.isnull().sum()"
   ]
  },
  {
   "cell_type": "code",
   "execution_count": 855,
   "metadata": {},
   "outputs": [
    {
     "data": {
      "text/plain": [
       "(113627, 3)"
      ]
     },
     "execution_count": 855,
     "metadata": {},
     "output_type": "execute_result"
    }
   ],
   "source": [
    "df_centenario.shape"
   ]
  },
  {
   "cell_type": "code",
   "execution_count": 856,
   "metadata": {},
   "outputs": [
    {
     "data": {
      "text/plain": [
       "483"
      ]
     },
     "execution_count": 856,
     "metadata": {},
     "output_type": "execute_result"
    }
   ],
   "source": [
    "#Total of null values\n",
    "df_centenario.isnull().sum().sum()"
   ]
  },
  {
   "cell_type": "code",
   "execution_count": 857,
   "metadata": {},
   "outputs": [
    {
     "data": {
      "text/html": [
       "<div>\n",
       "<style scoped>\n",
       "    .dataframe tbody tr th:only-of-type {\n",
       "        vertical-align: middle;\n",
       "    }\n",
       "\n",
       "    .dataframe tbody tr th {\n",
       "        vertical-align: top;\n",
       "    }\n",
       "\n",
       "    .dataframe thead th {\n",
       "        text-align: right;\n",
       "    }\n",
       "</style>\n",
       "<table border=\"1\" class=\"dataframe\">\n",
       "  <thead>\n",
       "    <tr style=\"text-align: right;\">\n",
       "      <th></th>\n",
       "      <th>FECHA</th>\n",
       "      <th>CO_CENTENARIO</th>\n",
       "      <th>NO2_CENTENARIO</th>\n",
       "    </tr>\n",
       "  </thead>\n",
       "  <tbody>\n",
       "    <tr>\n",
       "      <th>271</th>\n",
       "      <td>18JAN2010:00:00:00</td>\n",
       "      <td>NaN</td>\n",
       "      <td>NaN</td>\n",
       "    </tr>\n",
       "    <tr>\n",
       "      <th>1031</th>\n",
       "      <td>19JAN2011:00:00:00</td>\n",
       "      <td>NaN</td>\n",
       "      <td>NaN</td>\n",
       "    </tr>\n",
       "    <tr>\n",
       "      <th>1313</th>\n",
       "      <td>09OCT2010:00:00:00</td>\n",
       "      <td>NaN</td>\n",
       "      <td>NaN</td>\n",
       "    </tr>\n",
       "    <tr>\n",
       "      <th>2277</th>\n",
       "      <td>19APR2012:00:00:00</td>\n",
       "      <td>NaN</td>\n",
       "      <td>NaN</td>\n",
       "    </tr>\n",
       "    <tr>\n",
       "      <th>2278</th>\n",
       "      <td>19APR2012:00:00:00</td>\n",
       "      <td>NaN</td>\n",
       "      <td>NaN</td>\n",
       "    </tr>\n",
       "    <tr>\n",
       "      <th>...</th>\n",
       "      <td>...</td>\n",
       "      <td>...</td>\n",
       "      <td>...</td>\n",
       "    </tr>\n",
       "    <tr>\n",
       "      <th>112099</th>\n",
       "      <td>01OCT2018:00:00:00</td>\n",
       "      <td>NaN</td>\n",
       "      <td>NaN</td>\n",
       "    </tr>\n",
       "    <tr>\n",
       "      <th>113060</th>\n",
       "      <td>31MAY2019:00:00:00</td>\n",
       "      <td>NaN</td>\n",
       "      <td>NaN</td>\n",
       "    </tr>\n",
       "    <tr>\n",
       "      <th>113436</th>\n",
       "      <td>01JUN2019:00:00:00</td>\n",
       "      <td>NaN</td>\n",
       "      <td>NaN</td>\n",
       "    </tr>\n",
       "    <tr>\n",
       "      <th>113528</th>\n",
       "      <td>29JAN2020:00:00:00</td>\n",
       "      <td>NaN</td>\n",
       "      <td>NaN</td>\n",
       "    </tr>\n",
       "    <tr>\n",
       "      <th>113589</th>\n",
       "      <td>31MAY2019:00:00:00</td>\n",
       "      <td>NaN</td>\n",
       "      <td>NaN</td>\n",
       "    </tr>\n",
       "  </tbody>\n",
       "</table>\n",
       "<p>242 rows × 3 columns</p>\n",
       "</div>"
      ],
      "text/plain": [
       "                     FECHA CO_CENTENARIO NO2_CENTENARIO\n",
       "271     18JAN2010:00:00:00           NaN            NaN\n",
       "1031    19JAN2011:00:00:00           NaN            NaN\n",
       "1313    09OCT2010:00:00:00           NaN            NaN\n",
       "2277    19APR2012:00:00:00           NaN            NaN\n",
       "2278    19APR2012:00:00:00           NaN            NaN\n",
       "...                    ...           ...            ...\n",
       "112099  01OCT2018:00:00:00           NaN            NaN\n",
       "113060  31MAY2019:00:00:00           NaN            NaN\n",
       "113436  01JUN2019:00:00:00           NaN            NaN\n",
       "113528  29JAN2020:00:00:00           NaN            NaN\n",
       "113589  31MAY2019:00:00:00           NaN            NaN\n",
       "\n",
       "[242 rows x 3 columns]"
      ]
     },
     "execution_count": 857,
     "metadata": {},
     "output_type": "execute_result"
    }
   ],
   "source": [
    "df_centenario[df_centenario.isnull().any(axis=1)]"
   ]
  },
  {
   "cell_type": "code",
   "execution_count": 858,
   "metadata": {},
   "outputs": [],
   "source": [
    "index =df_centenario[df_centenario.isnull().any(axis=1)].index"
   ]
  },
  {
   "cell_type": "code",
   "execution_count": 859,
   "metadata": {},
   "outputs": [
    {
     "data": {
      "text/html": [
       "<div>\n",
       "<style scoped>\n",
       "    .dataframe tbody tr th:only-of-type {\n",
       "        vertical-align: middle;\n",
       "    }\n",
       "\n",
       "    .dataframe tbody tr th {\n",
       "        vertical-align: top;\n",
       "    }\n",
       "\n",
       "    .dataframe thead th {\n",
       "        text-align: right;\n",
       "    }\n",
       "</style>\n",
       "<table border=\"1\" class=\"dataframe\">\n",
       "  <thead>\n",
       "    <tr style=\"text-align: right;\">\n",
       "      <th></th>\n",
       "      <th>FECHA</th>\n",
       "      <th>CO_CENTENARIO</th>\n",
       "      <th>NO2_CENTENARIO</th>\n",
       "    </tr>\n",
       "  </thead>\n",
       "  <tbody>\n",
       "    <tr>\n",
       "      <th>0</th>\n",
       "      <td>21NOV2009:00:00:00</td>\n",
       "      <td>0.39</td>\n",
       "      <td>17</td>\n",
       "    </tr>\n",
       "    <tr>\n",
       "      <th>1</th>\n",
       "      <td>21NOV2009:00:00:00</td>\n",
       "      <td>0.68</td>\n",
       "      <td>15</td>\n",
       "    </tr>\n",
       "    <tr>\n",
       "      <th>2</th>\n",
       "      <td>21NOV2009:00:00:00</td>\n",
       "      <td>0.81</td>\n",
       "      <td>20</td>\n",
       "    </tr>\n",
       "    <tr>\n",
       "      <th>3</th>\n",
       "      <td>21NOV2009:00:00:00</td>\n",
       "      <td>0.85</td>\n",
       "      <td>21</td>\n",
       "    </tr>\n",
       "    <tr>\n",
       "      <th>4</th>\n",
       "      <td>21NOV2009:00:00:00</td>\n",
       "      <td>0.93</td>\n",
       "      <td>22</td>\n",
       "    </tr>\n",
       "    <tr>\n",
       "      <th>...</th>\n",
       "      <td>...</td>\n",
       "      <td>...</td>\n",
       "      <td>...</td>\n",
       "    </tr>\n",
       "    <tr>\n",
       "      <th>113622</th>\n",
       "      <td>26NOV2009:00:00:00</td>\n",
       "      <td>0.69</td>\n",
       "      <td>41</td>\n",
       "    </tr>\n",
       "    <tr>\n",
       "      <th>113623</th>\n",
       "      <td>18MAY2019:00:00:00</td>\n",
       "      <td>0.56</td>\n",
       "      <td>7</td>\n",
       "    </tr>\n",
       "    <tr>\n",
       "      <th>113624</th>\n",
       "      <td>03DEC2014:00:00:00</td>\n",
       "      <td>0.68</td>\n",
       "      <td>20</td>\n",
       "    </tr>\n",
       "    <tr>\n",
       "      <th>113625</th>\n",
       "      <td>03FEB2019:00:00:00</td>\n",
       "      <td>0.13</td>\n",
       "      <td>6</td>\n",
       "    </tr>\n",
       "    <tr>\n",
       "      <th>113626</th>\n",
       "      <td>10OCT2018:00:00:00</td>\n",
       "      <td>0.25</td>\n",
       "      <td>22</td>\n",
       "    </tr>\n",
       "  </tbody>\n",
       "</table>\n",
       "<p>113385 rows × 3 columns</p>\n",
       "</div>"
      ],
      "text/plain": [
       "                     FECHA CO_CENTENARIO NO2_CENTENARIO\n",
       "0       21NOV2009:00:00:00          0.39             17\n",
       "1       21NOV2009:00:00:00          0.68             15\n",
       "2       21NOV2009:00:00:00          0.81             20\n",
       "3       21NOV2009:00:00:00          0.85             21\n",
       "4       21NOV2009:00:00:00          0.93             22\n",
       "...                    ...           ...            ...\n",
       "113622  26NOV2009:00:00:00          0.69             41\n",
       "113623  18MAY2019:00:00:00          0.56              7\n",
       "113624  03DEC2014:00:00:00          0.68             20\n",
       "113625  03FEB2019:00:00:00          0.13              6\n",
       "113626  10OCT2018:00:00:00          0.25             22\n",
       "\n",
       "[113385 rows x 3 columns]"
      ]
     },
     "execution_count": 859,
     "metadata": {},
     "output_type": "execute_result"
    }
   ],
   "source": [
    "df_centenario.drop(index)"
   ]
  },
  {
   "cell_type": "code",
   "execution_count": 860,
   "metadata": {},
   "outputs": [
    {
     "name": "stderr",
     "output_type": "stream",
     "text": [
      "c:\\Users\\LENOVO\\AppData\\Local\\Programs\\Python\\Python310\\lib\\site-packages\\pandas\\core\\indexing.py:1667: SettingWithCopyWarning: \n",
      "A value is trying to be set on a copy of a slice from a DataFrame.\n",
      "Try using .loc[row_indexer,col_indexer] = value instead\n",
      "\n",
      "See the caveats in the documentation: https://pandas.pydata.org/pandas-docs/stable/user_guide/indexing.html#returning-a-view-versus-a-copy\n",
      "  self.obj[key] = value\n"
     ]
    }
   ],
   "source": [
    "#df_centenario['fecha_'] =df_centenario['FECHA'].str[:9]\n",
    "\n",
    "df_centenario.loc[:,'Fecha'] = df_centenario['FECHA'].str[:9]"
   ]
  },
  {
   "cell_type": "code",
   "execution_count": 861,
   "metadata": {},
   "outputs": [
    {
     "data": {
      "text/html": [
       "<div>\n",
       "<style scoped>\n",
       "    .dataframe tbody tr th:only-of-type {\n",
       "        vertical-align: middle;\n",
       "    }\n",
       "\n",
       "    .dataframe tbody tr th {\n",
       "        vertical-align: top;\n",
       "    }\n",
       "\n",
       "    .dataframe thead th {\n",
       "        text-align: right;\n",
       "    }\n",
       "</style>\n",
       "<table border=\"1\" class=\"dataframe\">\n",
       "  <thead>\n",
       "    <tr style=\"text-align: right;\">\n",
       "      <th></th>\n",
       "      <th>FECHA</th>\n",
       "      <th>CO_CENTENARIO</th>\n",
       "      <th>NO2_CENTENARIO</th>\n",
       "      <th>Fecha</th>\n",
       "    </tr>\n",
       "  </thead>\n",
       "  <tbody>\n",
       "    <tr>\n",
       "      <th>0</th>\n",
       "      <td>21NOV2009:00:00:00</td>\n",
       "      <td>0.39</td>\n",
       "      <td>17</td>\n",
       "      <td>21NOV2009</td>\n",
       "    </tr>\n",
       "    <tr>\n",
       "      <th>1</th>\n",
       "      <td>21NOV2009:00:00:00</td>\n",
       "      <td>0.68</td>\n",
       "      <td>15</td>\n",
       "      <td>21NOV2009</td>\n",
       "    </tr>\n",
       "    <tr>\n",
       "      <th>2</th>\n",
       "      <td>21NOV2009:00:00:00</td>\n",
       "      <td>0.81</td>\n",
       "      <td>20</td>\n",
       "      <td>21NOV2009</td>\n",
       "    </tr>\n",
       "    <tr>\n",
       "      <th>3</th>\n",
       "      <td>21NOV2009:00:00:00</td>\n",
       "      <td>0.85</td>\n",
       "      <td>21</td>\n",
       "      <td>21NOV2009</td>\n",
       "    </tr>\n",
       "    <tr>\n",
       "      <th>4</th>\n",
       "      <td>21NOV2009:00:00:00</td>\n",
       "      <td>0.93</td>\n",
       "      <td>22</td>\n",
       "      <td>21NOV2009</td>\n",
       "    </tr>\n",
       "    <tr>\n",
       "      <th>...</th>\n",
       "      <td>...</td>\n",
       "      <td>...</td>\n",
       "      <td>...</td>\n",
       "      <td>...</td>\n",
       "    </tr>\n",
       "    <tr>\n",
       "      <th>113622</th>\n",
       "      <td>26NOV2009:00:00:00</td>\n",
       "      <td>0.69</td>\n",
       "      <td>41</td>\n",
       "      <td>26NOV2009</td>\n",
       "    </tr>\n",
       "    <tr>\n",
       "      <th>113623</th>\n",
       "      <td>18MAY2019:00:00:00</td>\n",
       "      <td>0.56</td>\n",
       "      <td>7</td>\n",
       "      <td>18MAY2019</td>\n",
       "    </tr>\n",
       "    <tr>\n",
       "      <th>113624</th>\n",
       "      <td>03DEC2014:00:00:00</td>\n",
       "      <td>0.68</td>\n",
       "      <td>20</td>\n",
       "      <td>03DEC2014</td>\n",
       "    </tr>\n",
       "    <tr>\n",
       "      <th>113625</th>\n",
       "      <td>03FEB2019:00:00:00</td>\n",
       "      <td>0.13</td>\n",
       "      <td>6</td>\n",
       "      <td>03FEB2019</td>\n",
       "    </tr>\n",
       "    <tr>\n",
       "      <th>113626</th>\n",
       "      <td>10OCT2018:00:00:00</td>\n",
       "      <td>0.25</td>\n",
       "      <td>22</td>\n",
       "      <td>10OCT2018</td>\n",
       "    </tr>\n",
       "  </tbody>\n",
       "</table>\n",
       "<p>113627 rows × 4 columns</p>\n",
       "</div>"
      ],
      "text/plain": [
       "                     FECHA CO_CENTENARIO NO2_CENTENARIO      Fecha\n",
       "0       21NOV2009:00:00:00          0.39             17  21NOV2009\n",
       "1       21NOV2009:00:00:00          0.68             15  21NOV2009\n",
       "2       21NOV2009:00:00:00          0.81             20  21NOV2009\n",
       "3       21NOV2009:00:00:00          0.85             21  21NOV2009\n",
       "4       21NOV2009:00:00:00          0.93             22  21NOV2009\n",
       "...                    ...           ...            ...        ...\n",
       "113622  26NOV2009:00:00:00          0.69             41  26NOV2009\n",
       "113623  18MAY2019:00:00:00          0.56              7  18MAY2019\n",
       "113624  03DEC2014:00:00:00          0.68             20  03DEC2014\n",
       "113625  03FEB2019:00:00:00          0.13              6  03FEB2019\n",
       "113626  10OCT2018:00:00:00          0.25             22  10OCT2018\n",
       "\n",
       "[113627 rows x 4 columns]"
      ]
     },
     "execution_count": 861,
     "metadata": {},
     "output_type": "execute_result"
    }
   ],
   "source": [
    "df_centenario"
   ]
  },
  {
   "cell_type": "code",
   "execution_count": 862,
   "metadata": {},
   "outputs": [
    {
     "data": {
      "text/plain": [
       "FECHA             object\n",
       "CO_CENTENARIO     object\n",
       "NO2_CENTENARIO    object\n",
       "Fecha             object\n",
       "dtype: object"
      ]
     },
     "execution_count": 862,
     "metadata": {},
     "output_type": "execute_result"
    }
   ],
   "source": [
    "df_centenario.dtypes"
   ]
  },
  {
   "cell_type": "code",
   "execution_count": 863,
   "metadata": {},
   "outputs": [
    {
     "data": {
      "text/plain": [
       "s/d      27373\n",
       "0.40      2109\n",
       "0.41      2054\n",
       "0.43      2054\n",
       "0.44      2051\n",
       "         ...  \n",
       "2.36         1\n",
       "5.04         1\n",
       "5.14         1\n",
       "4.68         1\n",
       "22.38        1\n",
       "Name: CO_CENTENARIO, Length: 367, dtype: int64"
      ]
     },
     "execution_count": 863,
     "metadata": {},
     "output_type": "execute_result"
    }
   ],
   "source": [
    "df_centenario['CO_CENTENARIO'].value_counts()"
   ]
  },
  {
   "cell_type": "code",
   "execution_count": 864,
   "metadata": {},
   "outputs": [
    {
     "data": {
      "text/plain": [
       "s/d      21462\n",
       "17        4212\n",
       "14        4206\n",
       "13        4175\n",
       "15        4160\n",
       "         ...  \n",
       "8.00         1\n",
       "43.00        1\n",
       "155          1\n",
       "19.00        1\n",
       "9.00         1\n",
       "Name: NO2_CENTENARIO, Length: 119, dtype: int64"
      ]
     },
     "execution_count": 864,
     "metadata": {},
     "output_type": "execute_result"
    }
   ],
   "source": [
    "df_centenario['NO2_CENTENARIO'].value_counts()"
   ]
  },
  {
   "cell_type": "code",
   "execution_count": 865,
   "metadata": {},
   "outputs": [
    {
     "name": "stderr",
     "output_type": "stream",
     "text": [
      "C:\\Users\\LENOVO\\AppData\\Local\\Temp\\ipykernel_2680\\3884878313.py:5: SettingWithCopyWarning: \n",
      "A value is trying to be set on a copy of a slice from a DataFrame.\n",
      "Try using .loc[row_indexer,col_indexer] = value instead\n",
      "\n",
      "See the caveats in the documentation: https://pandas.pydata.org/pandas-docs/stable/user_guide/indexing.html#returning-a-view-versus-a-copy\n",
      "  df_centenario['CO_CENTENARIO']=df_centenario['CO_CENTENARIO'].replace(\"s/d\",0)\n",
      "C:\\Users\\LENOVO\\AppData\\Local\\Temp\\ipykernel_2680\\3884878313.py:6: SettingWithCopyWarning: \n",
      "A value is trying to be set on a copy of a slice from a DataFrame.\n",
      "Try using .loc[row_indexer,col_indexer] = value instead\n",
      "\n",
      "See the caveats in the documentation: https://pandas.pydata.org/pandas-docs/stable/user_guide/indexing.html#returning-a-view-versus-a-copy\n",
      "  df_centenario['NO2_CENTENARIO']=df_centenario['NO2_CENTENARIO'].replace(\"s/d\",0)\n"
     ]
    }
   ],
   "source": [
    "code = {\"s/d\": 0}\n",
    "#df_centenario['NO2_CENTENARIO'] = df_centenario['NO2_CENTENARIO'].map(code)\n",
    "#df_centenario['CO_CENTENARIO'] = df_centenario['CO_CENTENARIO'].map(code)\n",
    "\n",
    "df_centenario['CO_CENTENARIO']=df_centenario['CO_CENTENARIO'].replace(\"s/d\",0)\n",
    "df_centenario['NO2_CENTENARIO']=df_centenario['NO2_CENTENARIO'].replace(\"s/d\",0)\n",
    "\n"
   ]
  },
  {
   "cell_type": "code",
   "execution_count": 866,
   "metadata": {},
   "outputs": [
    {
     "data": {
      "text/plain": [
       "0        27373\n",
       "0.40      2109\n",
       "0.41      2054\n",
       "0.43      2054\n",
       "0.44      2051\n",
       "         ...  \n",
       "2.36         1\n",
       "5.04         1\n",
       "5.14         1\n",
       "4.68         1\n",
       "22.38        1\n",
       "Name: CO_CENTENARIO, Length: 367, dtype: int64"
      ]
     },
     "execution_count": 866,
     "metadata": {},
     "output_type": "execute_result"
    }
   ],
   "source": [
    "df_centenario['CO_CENTENARIO'].value_counts()"
   ]
  },
  {
   "cell_type": "code",
   "execution_count": 867,
   "metadata": {},
   "outputs": [
    {
     "data": {
      "text/plain": [
       "242"
      ]
     },
     "execution_count": 867,
     "metadata": {},
     "output_type": "execute_result"
    }
   ],
   "source": [
    "df_centenario['CO_CENTENARIO'].isnull().sum()"
   ]
  },
  {
   "cell_type": "code",
   "execution_count": 868,
   "metadata": {},
   "outputs": [
    {
     "data": {
      "text/plain": [
       "0        21462\n",
       "17        4212\n",
       "14        4206\n",
       "13        4175\n",
       "15        4160\n",
       "         ...  \n",
       "8.00         1\n",
       "43.00        1\n",
       "155          1\n",
       "19.00        1\n",
       "9.00         1\n",
       "Name: NO2_CENTENARIO, Length: 119, dtype: int64"
      ]
     },
     "execution_count": 868,
     "metadata": {},
     "output_type": "execute_result"
    }
   ],
   "source": [
    "df_centenario['NO2_CENTENARIO'].value_counts()"
   ]
  },
  {
   "cell_type": "code",
   "execution_count": 869,
   "metadata": {},
   "outputs": [
    {
     "data": {
      "text/plain": [
       "dtype('O')"
      ]
     },
     "execution_count": 869,
     "metadata": {},
     "output_type": "execute_result"
    }
   ],
   "source": [
    "df_centenario['CO_CENTENARIO'].dtypes"
   ]
  },
  {
   "cell_type": "code",
   "execution_count": 870,
   "metadata": {},
   "outputs": [],
   "source": [
    "import re"
   ]
  },
  {
   "cell_type": "code",
   "execution_count": 871,
   "metadata": {},
   "outputs": [
    {
     "name": "stderr",
     "output_type": "stream",
     "text": [
      "C:\\Users\\LENOVO\\AppData\\Local\\Temp\\ipykernel_2680\\40174738.py:1: SettingWithCopyWarning: \n",
      "A value is trying to be set on a copy of a slice from a DataFrame.\n",
      "Try using .loc[row_indexer,col_indexer] = value instead\n",
      "\n",
      "See the caveats in the documentation: https://pandas.pydata.org/pandas-docs/stable/user_guide/indexing.html#returning-a-view-versus-a-copy\n",
      "  df_centenario['CO_CENTENARIO']=df_centenario['CO_CENTENARIO'].str.extract('(\\d+)')\n"
     ]
    }
   ],
   "source": [
    "df_centenario['CO_CENTENARIO']=df_centenario['CO_CENTENARIO'].str.extract('(\\d+)')\n",
    "\n"
   ]
  },
  {
   "cell_type": "code",
   "execution_count": 872,
   "metadata": {},
   "outputs": [
    {
     "data": {
      "text/plain": [
       "0     80808\n",
       "1      4928\n",
       "2       119\n",
       "3        22\n",
       "19       22\n",
       "22       16\n",
       "21       10\n",
       "20       10\n",
       "18        9\n",
       "4         5\n",
       "49        4\n",
       "5         3\n",
       "47        3\n",
       "48        3\n",
       "38        2\n",
       "17        2\n",
       "40        2\n",
       "30        2\n",
       "25        2\n",
       "32        2\n",
       "16        2\n",
       "36        1\n",
       "31        1\n",
       "35        1\n",
       "27        1\n",
       "45        1\n",
       "24        1\n",
       "44        1\n",
       "15        1\n",
       "42        1\n",
       "34        1\n",
       "23        1\n",
       "14        1\n",
       "Name: CO_CENTENARIO, dtype: int64"
      ]
     },
     "execution_count": 872,
     "metadata": {},
     "output_type": "execute_result"
    }
   ],
   "source": [
    "#df_centenario[\"CO_CENTENARIO\"]= df_centenario['CO_CENTENARIO'].str.replace(\"<\", \"\")\n",
    "\n",
    "#df_centenario[\"CO_CENTENARIO\"]= df_centenario['CO_CENTENARIO'].str.isdigit()\n",
    "\n",
    "df_centenario['CO_CENTENARIO'].value_counts()"
   ]
  },
  {
   "cell_type": "code",
   "execution_count": 873,
   "metadata": {},
   "outputs": [
    {
     "name": "stderr",
     "output_type": "stream",
     "text": [
      "C:\\Users\\LENOVO\\AppData\\Local\\Temp\\ipykernel_2680\\15702454.py:1: SettingWithCopyWarning: \n",
      "A value is trying to be set on a copy of a slice from a DataFrame.\n",
      "Try using .loc[row_indexer,col_indexer] = value instead\n",
      "\n",
      "See the caveats in the documentation: https://pandas.pydata.org/pandas-docs/stable/user_guide/indexing.html#returning-a-view-versus-a-copy\n",
      "  df_centenario['CO_CENTENARIO'] = df_centenario['CO_CENTENARIO'].astype(float)\n",
      "C:\\Users\\LENOVO\\AppData\\Local\\Temp\\ipykernel_2680\\15702454.py:2: SettingWithCopyWarning: \n",
      "A value is trying to be set on a copy of a slice from a DataFrame.\n",
      "Try using .loc[row_indexer,col_indexer] = value instead\n",
      "\n",
      "See the caveats in the documentation: https://pandas.pydata.org/pandas-docs/stable/user_guide/indexing.html#returning-a-view-versus-a-copy\n",
      "  df_centenario['NO2_CENTENARIO']= df_centenario['NO2_CENTENARIO'].astype(float)\n"
     ]
    }
   ],
   "source": [
    "df_centenario['CO_CENTENARIO'] = df_centenario['CO_CENTENARIO'].astype(float)\n",
    "df_centenario['NO2_CENTENARIO']= df_centenario['NO2_CENTENARIO'].astype(float)\n"
   ]
  },
  {
   "cell_type": "code",
   "execution_count": 874,
   "metadata": {},
   "outputs": [
    {
     "data": {
      "text/plain": [
       "0.0     80808\n",
       "1.0      4928\n",
       "2.0       119\n",
       "3.0        22\n",
       "19.0       22\n",
       "22.0       16\n",
       "21.0       10\n",
       "20.0       10\n",
       "18.0        9\n",
       "4.0         5\n",
       "49.0        4\n",
       "5.0         3\n",
       "47.0        3\n",
       "48.0        3\n",
       "38.0        2\n",
       "17.0        2\n",
       "40.0        2\n",
       "30.0        2\n",
       "25.0        2\n",
       "32.0        2\n",
       "16.0        2\n",
       "36.0        1\n",
       "31.0        1\n",
       "35.0        1\n",
       "27.0        1\n",
       "45.0        1\n",
       "24.0        1\n",
       "44.0        1\n",
       "15.0        1\n",
       "42.0        1\n",
       "34.0        1\n",
       "23.0        1\n",
       "14.0        1\n",
       "Name: CO_CENTENARIO, dtype: int64"
      ]
     },
     "execution_count": 874,
     "metadata": {},
     "output_type": "execute_result"
    }
   ],
   "source": [
    "df_centenario['CO_CENTENARIO'].value_counts()"
   ]
  },
  {
   "cell_type": "code",
   "execution_count": 875,
   "metadata": {},
   "outputs": [
    {
     "data": {
      "text/plain": [
       "27639"
      ]
     },
     "execution_count": 875,
     "metadata": {},
     "output_type": "execute_result"
    }
   ],
   "source": [
    "df_centenario['CO_CENTENARIO'].isnull().sum()"
   ]
  },
  {
   "cell_type": "code",
   "execution_count": 876,
   "metadata": {},
   "outputs": [
    {
     "data": {
      "text/plain": [
       "0.0      21523\n",
       "17.0      4213\n",
       "14.0      4207\n",
       "13.0      4175\n",
       "15.0      4161\n",
       "         ...  \n",
       "86.0         2\n",
       "155.0        1\n",
       "112.0        1\n",
       "95.0         1\n",
       "98.0         1\n",
       "Name: NO2_CENTENARIO, Length: 92, dtype: int64"
      ]
     },
     "execution_count": 876,
     "metadata": {},
     "output_type": "execute_result"
    }
   ],
   "source": [
    "df_centenario['NO2_CENTENARIO'].value_counts()"
   ]
  },
  {
   "cell_type": "code",
   "execution_count": 877,
   "metadata": {},
   "outputs": [],
   "source": [
    "df_centenario_no2=df_centenario.groupby(['Fecha'])[['NO2_CENTENARIO']].mean().reset_index()"
   ]
  },
  {
   "cell_type": "code",
   "execution_count": 878,
   "metadata": {},
   "outputs": [
    {
     "data": {
      "text/plain": [
       "1"
      ]
     },
     "execution_count": 878,
     "metadata": {},
     "output_type": "execute_result"
    }
   ],
   "source": [
    "df_centenario_no2['NO2_CENTENARIO'].isnull().sum()"
   ]
  },
  {
   "cell_type": "code",
   "execution_count": 879,
   "metadata": {},
   "outputs": [
    {
     "data": {
      "text/plain": [
       "0.000000     718\n",
       "14.791667     19\n",
       "13.333333     19\n",
       "13.416667     18\n",
       "17.791667     17\n",
       "            ... \n",
       "39.166667      1\n",
       "24.333333      1\n",
       "34.875000      1\n",
       "28.958333      1\n",
       "42.041667      1\n",
       "Name: NO2_CENTENARIO, Length: 754, dtype: int64"
      ]
     },
     "execution_count": 879,
     "metadata": {},
     "output_type": "execute_result"
    }
   ],
   "source": [
    "df_centenario_no2['NO2_CENTENARIO'].value_counts()"
   ]
  },
  {
   "cell_type": "code",
   "execution_count": 880,
   "metadata": {},
   "outputs": [
    {
     "data": {
      "text/html": [
       "<div>\n",
       "<style scoped>\n",
       "    .dataframe tbody tr th:only-of-type {\n",
       "        vertical-align: middle;\n",
       "    }\n",
       "\n",
       "    .dataframe tbody tr th {\n",
       "        vertical-align: top;\n",
       "    }\n",
       "\n",
       "    .dataframe thead th {\n",
       "        text-align: right;\n",
       "    }\n",
       "</style>\n",
       "<table border=\"1\" class=\"dataframe\">\n",
       "  <thead>\n",
       "    <tr style=\"text-align: right;\">\n",
       "      <th></th>\n",
       "      <th>Fecha</th>\n",
       "      <th>NO2_CENTENARIO</th>\n",
       "    </tr>\n",
       "  </thead>\n",
       "  <tbody>\n",
       "    <tr>\n",
       "      <th>45</th>\n",
       "      <td>01FEB2016</td>\n",
       "      <td>NaN</td>\n",
       "    </tr>\n",
       "  </tbody>\n",
       "</table>\n",
       "</div>"
      ],
      "text/plain": [
       "        Fecha  NO2_CENTENARIO\n",
       "45  01FEB2016             NaN"
      ]
     },
     "execution_count": 880,
     "metadata": {},
     "output_type": "execute_result"
    }
   ],
   "source": [
    "df_centenario_no2[df_centenario_no2.isnull().any(axis=1)]"
   ]
  },
  {
   "cell_type": "code",
   "execution_count": 881,
   "metadata": {},
   "outputs": [],
   "source": [
    "df_centenario_no2 = df_centenario_no2[df_centenario_no2['NO2_CENTENARIO']!=0]\n"
   ]
  },
  {
   "cell_type": "code",
   "execution_count": 882,
   "metadata": {},
   "outputs": [
    {
     "data": {
      "text/plain": [
       "14.791667    19\n",
       "13.333333    19\n",
       "13.416667    18\n",
       "17.791667    17\n",
       "16.083333    17\n",
       "             ..\n",
       "33.208333     1\n",
       "5.000000      1\n",
       "37.333333     1\n",
       "32.250000     1\n",
       "42.041667     1\n",
       "Name: NO2_CENTENARIO, Length: 753, dtype: int64"
      ]
     },
     "execution_count": 882,
     "metadata": {},
     "output_type": "execute_result"
    }
   ],
   "source": [
    "df_centenario_no2['NO2_CENTENARIO'].value_counts()"
   ]
  },
  {
   "cell_type": "code",
   "execution_count": 883,
   "metadata": {},
   "outputs": [
    {
     "data": {
      "text/html": [
       "<div>\n",
       "<style scoped>\n",
       "    .dataframe tbody tr th:only-of-type {\n",
       "        vertical-align: middle;\n",
       "    }\n",
       "\n",
       "    .dataframe tbody tr th {\n",
       "        vertical-align: top;\n",
       "    }\n",
       "\n",
       "    .dataframe thead th {\n",
       "        text-align: right;\n",
       "    }\n",
       "</style>\n",
       "<table border=\"1\" class=\"dataframe\">\n",
       "  <thead>\n",
       "    <tr style=\"text-align: right;\">\n",
       "      <th></th>\n",
       "      <th>Fecha</th>\n",
       "      <th>NO2_CENTENARIO</th>\n",
       "    </tr>\n",
       "  </thead>\n",
       "  <tbody>\n",
       "    <tr>\n",
       "      <th>45</th>\n",
       "      <td>01FEB2016</td>\n",
       "      <td>NaN</td>\n",
       "    </tr>\n",
       "  </tbody>\n",
       "</table>\n",
       "</div>"
      ],
      "text/plain": [
       "        Fecha  NO2_CENTENARIO\n",
       "45  01FEB2016             NaN"
      ]
     },
     "execution_count": 883,
     "metadata": {},
     "output_type": "execute_result"
    }
   ],
   "source": [
    "df_centenario_no2[df_centenario_no2.isnull().any(axis=1)]"
   ]
  },
  {
   "cell_type": "code",
   "execution_count": 884,
   "metadata": {},
   "outputs": [],
   "source": [
    "df_centenario_no2=df_centenario_no2.dropna()"
   ]
  },
  {
   "cell_type": "code",
   "execution_count": 885,
   "metadata": {},
   "outputs": [
    {
     "data": {
      "text/plain": [
       "Fecha             0\n",
       "NO2_CENTENARIO    0\n",
       "dtype: int64"
      ]
     },
     "execution_count": 885,
     "metadata": {},
     "output_type": "execute_result"
    }
   ],
   "source": [
    "df_centenario_no2.isnull().sum()"
   ]
  },
  {
   "cell_type": "code",
   "execution_count": 886,
   "metadata": {},
   "outputs": [],
   "source": [
    "df_centenario_no2['Fecha']= pd.to_datetime(df_centenario_no2['Fecha'])"
   ]
  },
  {
   "cell_type": "code",
   "execution_count": 887,
   "metadata": {},
   "outputs": [
    {
     "data": {
      "text/plain": [
       "Fecha             datetime64[ns]\n",
       "NO2_CENTENARIO           float64\n",
       "dtype: object"
      ]
     },
     "execution_count": 887,
     "metadata": {},
     "output_type": "execute_result"
    }
   ],
   "source": [
    "df_centenario_no2.dtypes"
   ]
  },
  {
   "cell_type": "code",
   "execution_count": null,
   "metadata": {},
   "outputs": [],
   "source": []
  },
  {
   "cell_type": "code",
   "execution_count": 888,
   "metadata": {},
   "outputs": [
    {
     "data": {
      "text/html": [
       "<div>\n",
       "<style scoped>\n",
       "    .dataframe tbody tr th:only-of-type {\n",
       "        vertical-align: middle;\n",
       "    }\n",
       "\n",
       "    .dataframe tbody tr th {\n",
       "        vertical-align: top;\n",
       "    }\n",
       "\n",
       "    .dataframe thead th {\n",
       "        text-align: right;\n",
       "    }\n",
       "</style>\n",
       "<table border=\"1\" class=\"dataframe\">\n",
       "  <thead>\n",
       "    <tr style=\"text-align: right;\">\n",
       "      <th></th>\n",
       "      <th>Fecha</th>\n",
       "      <th>NO2_CENTENARIO</th>\n",
       "    </tr>\n",
       "  </thead>\n",
       "  <tbody>\n",
       "    <tr>\n",
       "      <th>131</th>\n",
       "      <td>2009-10-01</td>\n",
       "      <td>34.700000</td>\n",
       "    </tr>\n",
       "    <tr>\n",
       "      <th>289</th>\n",
       "      <td>2009-10-02</td>\n",
       "      <td>30.750000</td>\n",
       "    </tr>\n",
       "    <tr>\n",
       "      <th>603</th>\n",
       "      <td>2009-10-04</td>\n",
       "      <td>23.833333</td>\n",
       "    </tr>\n",
       "    <tr>\n",
       "      <th>761</th>\n",
       "      <td>2009-10-05</td>\n",
       "      <td>29.250000</td>\n",
       "    </tr>\n",
       "    <tr>\n",
       "      <th>919</th>\n",
       "      <td>2009-10-06</td>\n",
       "      <td>24.958333</td>\n",
       "    </tr>\n",
       "    <tr>\n",
       "      <th>...</th>\n",
       "      <td>...</td>\n",
       "      <td>...</td>\n",
       "    </tr>\n",
       "    <tr>\n",
       "      <th>4062</th>\n",
       "      <td>2022-10-26</td>\n",
       "      <td>14.791667</td>\n",
       "    </tr>\n",
       "    <tr>\n",
       "      <th>4219</th>\n",
       "      <td>2022-10-27</td>\n",
       "      <td>14.625000</td>\n",
       "    </tr>\n",
       "    <tr>\n",
       "      <th>4376</th>\n",
       "      <td>2022-10-28</td>\n",
       "      <td>20.416667</td>\n",
       "    </tr>\n",
       "    <tr>\n",
       "      <th>4522</th>\n",
       "      <td>2022-10-29</td>\n",
       "      <td>16.500000</td>\n",
       "    </tr>\n",
       "    <tr>\n",
       "      <th>4665</th>\n",
       "      <td>2022-10-30</td>\n",
       "      <td>8.166667</td>\n",
       "    </tr>\n",
       "  </tbody>\n",
       "</table>\n",
       "<p>4051 rows × 2 columns</p>\n",
       "</div>"
      ],
      "text/plain": [
       "          Fecha  NO2_CENTENARIO\n",
       "131  2009-10-01       34.700000\n",
       "289  2009-10-02       30.750000\n",
       "603  2009-10-04       23.833333\n",
       "761  2009-10-05       29.250000\n",
       "919  2009-10-06       24.958333\n",
       "...         ...             ...\n",
       "4062 2022-10-26       14.791667\n",
       "4219 2022-10-27       14.625000\n",
       "4376 2022-10-28       20.416667\n",
       "4522 2022-10-29       16.500000\n",
       "4665 2022-10-30        8.166667\n",
       "\n",
       "[4051 rows x 2 columns]"
      ]
     },
     "execution_count": 888,
     "metadata": {},
     "output_type": "execute_result"
    }
   ],
   "source": [
    "df_centenario_no2.sort_values(by='Fecha')"
   ]
  },
  {
   "cell_type": "code",
   "execution_count": 889,
   "metadata": {},
   "outputs": [
    {
     "data": {
      "text/plain": [
       "14.791667    19\n",
       "13.333333    19\n",
       "13.416667    18\n",
       "17.791667    17\n",
       "16.083333    17\n",
       "             ..\n",
       "33.208333     1\n",
       "5.000000      1\n",
       "37.333333     1\n",
       "32.250000     1\n",
       "42.041667     1\n",
       "Name: NO2_CENTENARIO, Length: 753, dtype: int64"
      ]
     },
     "execution_count": 889,
     "metadata": {},
     "output_type": "execute_result"
    }
   ],
   "source": [
    "df_centenario_no2['NO2_CENTENARIO'].value_counts()"
   ]
  },
  {
   "cell_type": "code",
   "execution_count": 890,
   "metadata": {},
   "outputs": [],
   "source": [
    "df_centenario_no2 = df_centenario_no2[df_centenario_no2['NO2_CENTENARIO']!=0]"
   ]
  },
  {
   "cell_type": "code",
   "execution_count": 891,
   "metadata": {},
   "outputs": [
    {
     "data": {
      "text/html": [
       "<div>\n",
       "<style scoped>\n",
       "    .dataframe tbody tr th:only-of-type {\n",
       "        vertical-align: middle;\n",
       "    }\n",
       "\n",
       "    .dataframe tbody tr th {\n",
       "        vertical-align: top;\n",
       "    }\n",
       "\n",
       "    .dataframe thead th {\n",
       "        text-align: right;\n",
       "    }\n",
       "</style>\n",
       "<table border=\"1\" class=\"dataframe\">\n",
       "  <thead>\n",
       "    <tr style=\"text-align: right;\">\n",
       "      <th></th>\n",
       "      <th>Fecha</th>\n",
       "      <th>NO2_CENTENARIO</th>\n",
       "    </tr>\n",
       "  </thead>\n",
       "  <tbody>\n",
       "    <tr>\n",
       "      <th>1</th>\n",
       "      <td>2011-04-01</td>\n",
       "      <td>35.541667</td>\n",
       "    </tr>\n",
       "    <tr>\n",
       "      <th>2</th>\n",
       "      <td>2012-04-01</td>\n",
       "      <td>11.375000</td>\n",
       "    </tr>\n",
       "    <tr>\n",
       "      <th>4</th>\n",
       "      <td>2014-04-01</td>\n",
       "      <td>12.500000</td>\n",
       "    </tr>\n",
       "    <tr>\n",
       "      <th>5</th>\n",
       "      <td>2015-04-01</td>\n",
       "      <td>19.958333</td>\n",
       "    </tr>\n",
       "    <tr>\n",
       "      <th>6</th>\n",
       "      <td>2016-04-01</td>\n",
       "      <td>14.958333</td>\n",
       "    </tr>\n",
       "    <tr>\n",
       "      <th>...</th>\n",
       "      <td>...</td>\n",
       "      <td>...</td>\n",
       "    </tr>\n",
       "    <tr>\n",
       "      <th>4764</th>\n",
       "      <td>2017-10-31</td>\n",
       "      <td>22.916667</td>\n",
       "    </tr>\n",
       "    <tr>\n",
       "      <th>4765</th>\n",
       "      <td>2018-10-31</td>\n",
       "      <td>13.375000</td>\n",
       "    </tr>\n",
       "    <tr>\n",
       "      <th>4766</th>\n",
       "      <td>2019-10-31</td>\n",
       "      <td>15.208333</td>\n",
       "    </tr>\n",
       "    <tr>\n",
       "      <th>4767</th>\n",
       "      <td>2020-10-31</td>\n",
       "      <td>13.375000</td>\n",
       "    </tr>\n",
       "    <tr>\n",
       "      <th>4768</th>\n",
       "      <td>2021-10-31</td>\n",
       "      <td>8.625000</td>\n",
       "    </tr>\n",
       "  </tbody>\n",
       "</table>\n",
       "<p>4051 rows × 2 columns</p>\n",
       "</div>"
      ],
      "text/plain": [
       "          Fecha  NO2_CENTENARIO\n",
       "1    2011-04-01       35.541667\n",
       "2    2012-04-01       11.375000\n",
       "4    2014-04-01       12.500000\n",
       "5    2015-04-01       19.958333\n",
       "6    2016-04-01       14.958333\n",
       "...         ...             ...\n",
       "4764 2017-10-31       22.916667\n",
       "4765 2018-10-31       13.375000\n",
       "4766 2019-10-31       15.208333\n",
       "4767 2020-10-31       13.375000\n",
       "4768 2021-10-31        8.625000\n",
       "\n",
       "[4051 rows x 2 columns]"
      ]
     },
     "execution_count": 891,
     "metadata": {},
     "output_type": "execute_result"
    }
   ],
   "source": [
    "df_centenario_no2"
   ]
  },
  {
   "cell_type": "code",
   "execution_count": 892,
   "metadata": {},
   "outputs": [],
   "source": [
    "df_centenario_no2.set_index('Fecha',inplace=True)"
   ]
  },
  {
   "cell_type": "code",
   "execution_count": 893,
   "metadata": {},
   "outputs": [],
   "source": [
    "df_centenario_no2['Lag_1'] = df_centenario_no2.shift(1)\n",
    "\n",
    "\n",
    "\n",
    "\n"
   ]
  },
  {
   "cell_type": "code",
   "execution_count": 894,
   "metadata": {},
   "outputs": [
    {
     "data": {
      "text/html": [
       "<div>\n",
       "<style scoped>\n",
       "    .dataframe tbody tr th:only-of-type {\n",
       "        vertical-align: middle;\n",
       "    }\n",
       "\n",
       "    .dataframe tbody tr th {\n",
       "        vertical-align: top;\n",
       "    }\n",
       "\n",
       "    .dataframe thead th {\n",
       "        text-align: right;\n",
       "    }\n",
       "</style>\n",
       "<table border=\"1\" class=\"dataframe\">\n",
       "  <thead>\n",
       "    <tr style=\"text-align: right;\">\n",
       "      <th></th>\n",
       "      <th>NO2_CENTENARIO</th>\n",
       "      <th>Lag_1</th>\n",
       "    </tr>\n",
       "    <tr>\n",
       "      <th>Fecha</th>\n",
       "      <th></th>\n",
       "      <th></th>\n",
       "    </tr>\n",
       "  </thead>\n",
       "  <tbody>\n",
       "    <tr>\n",
       "      <th>2011-04-01</th>\n",
       "      <td>35.541667</td>\n",
       "      <td>NaN</td>\n",
       "    </tr>\n",
       "    <tr>\n",
       "      <th>2012-04-01</th>\n",
       "      <td>11.375000</td>\n",
       "      <td>35.541667</td>\n",
       "    </tr>\n",
       "    <tr>\n",
       "      <th>2014-04-01</th>\n",
       "      <td>12.500000</td>\n",
       "      <td>11.375000</td>\n",
       "    </tr>\n",
       "    <tr>\n",
       "      <th>2015-04-01</th>\n",
       "      <td>19.958333</td>\n",
       "      <td>12.500000</td>\n",
       "    </tr>\n",
       "    <tr>\n",
       "      <th>2016-04-01</th>\n",
       "      <td>14.958333</td>\n",
       "      <td>19.958333</td>\n",
       "    </tr>\n",
       "    <tr>\n",
       "      <th>...</th>\n",
       "      <td>...</td>\n",
       "      <td>...</td>\n",
       "    </tr>\n",
       "    <tr>\n",
       "      <th>2017-10-31</th>\n",
       "      <td>22.916667</td>\n",
       "      <td>19.666667</td>\n",
       "    </tr>\n",
       "    <tr>\n",
       "      <th>2018-10-31</th>\n",
       "      <td>13.375000</td>\n",
       "      <td>22.916667</td>\n",
       "    </tr>\n",
       "    <tr>\n",
       "      <th>2019-10-31</th>\n",
       "      <td>15.208333</td>\n",
       "      <td>13.375000</td>\n",
       "    </tr>\n",
       "    <tr>\n",
       "      <th>2020-10-31</th>\n",
       "      <td>13.375000</td>\n",
       "      <td>15.208333</td>\n",
       "    </tr>\n",
       "    <tr>\n",
       "      <th>2021-10-31</th>\n",
       "      <td>8.625000</td>\n",
       "      <td>13.375000</td>\n",
       "    </tr>\n",
       "  </tbody>\n",
       "</table>\n",
       "<p>4051 rows × 2 columns</p>\n",
       "</div>"
      ],
      "text/plain": [
       "            NO2_CENTENARIO      Lag_1\n",
       "Fecha                                \n",
       "2011-04-01       35.541667        NaN\n",
       "2012-04-01       11.375000  35.541667\n",
       "2014-04-01       12.500000  11.375000\n",
       "2015-04-01       19.958333  12.500000\n",
       "2016-04-01       14.958333  19.958333\n",
       "...                    ...        ...\n",
       "2017-10-31       22.916667  19.666667\n",
       "2018-10-31       13.375000  22.916667\n",
       "2019-10-31       15.208333  13.375000\n",
       "2020-10-31       13.375000  15.208333\n",
       "2021-10-31        8.625000  13.375000\n",
       "\n",
       "[4051 rows x 2 columns]"
      ]
     },
     "execution_count": 894,
     "metadata": {},
     "output_type": "execute_result"
    }
   ],
   "source": [
    "df_centenario_no2"
   ]
  },
  {
   "cell_type": "code",
   "execution_count": 895,
   "metadata": {},
   "outputs": [
    {
     "data": {
      "text/html": [
       "<div>\n",
       "<style scoped>\n",
       "    .dataframe tbody tr th:only-of-type {\n",
       "        vertical-align: middle;\n",
       "    }\n",
       "\n",
       "    .dataframe tbody tr th {\n",
       "        vertical-align: top;\n",
       "    }\n",
       "\n",
       "    .dataframe thead th {\n",
       "        text-align: right;\n",
       "    }\n",
       "</style>\n",
       "<table border=\"1\" class=\"dataframe\">\n",
       "  <thead>\n",
       "    <tr style=\"text-align: right;\">\n",
       "      <th></th>\n",
       "      <th>NO2_CENTENARIO</th>\n",
       "      <th>Lag_1</th>\n",
       "    </tr>\n",
       "    <tr>\n",
       "      <th>Fecha</th>\n",
       "      <th></th>\n",
       "      <th></th>\n",
       "    </tr>\n",
       "  </thead>\n",
       "  <tbody>\n",
       "    <tr>\n",
       "      <th>2012-04-01</th>\n",
       "      <td>11.375000</td>\n",
       "      <td>35.541667</td>\n",
       "    </tr>\n",
       "    <tr>\n",
       "      <th>2014-04-01</th>\n",
       "      <td>12.500000</td>\n",
       "      <td>11.375000</td>\n",
       "    </tr>\n",
       "    <tr>\n",
       "      <th>2015-04-01</th>\n",
       "      <td>19.958333</td>\n",
       "      <td>12.500000</td>\n",
       "    </tr>\n",
       "    <tr>\n",
       "      <th>2016-04-01</th>\n",
       "      <td>14.958333</td>\n",
       "      <td>19.958333</td>\n",
       "    </tr>\n",
       "    <tr>\n",
       "      <th>2017-04-01</th>\n",
       "      <td>14.541667</td>\n",
       "      <td>14.958333</td>\n",
       "    </tr>\n",
       "    <tr>\n",
       "      <th>...</th>\n",
       "      <td>...</td>\n",
       "      <td>...</td>\n",
       "    </tr>\n",
       "    <tr>\n",
       "      <th>2017-10-31</th>\n",
       "      <td>22.916667</td>\n",
       "      <td>19.666667</td>\n",
       "    </tr>\n",
       "    <tr>\n",
       "      <th>2018-10-31</th>\n",
       "      <td>13.375000</td>\n",
       "      <td>22.916667</td>\n",
       "    </tr>\n",
       "    <tr>\n",
       "      <th>2019-10-31</th>\n",
       "      <td>15.208333</td>\n",
       "      <td>13.375000</td>\n",
       "    </tr>\n",
       "    <tr>\n",
       "      <th>2020-10-31</th>\n",
       "      <td>13.375000</td>\n",
       "      <td>15.208333</td>\n",
       "    </tr>\n",
       "    <tr>\n",
       "      <th>2021-10-31</th>\n",
       "      <td>8.625000</td>\n",
       "      <td>13.375000</td>\n",
       "    </tr>\n",
       "  </tbody>\n",
       "</table>\n",
       "<p>4050 rows × 2 columns</p>\n",
       "</div>"
      ],
      "text/plain": [
       "            NO2_CENTENARIO      Lag_1\n",
       "Fecha                                \n",
       "2012-04-01       11.375000  35.541667\n",
       "2014-04-01       12.500000  11.375000\n",
       "2015-04-01       19.958333  12.500000\n",
       "2016-04-01       14.958333  19.958333\n",
       "2017-04-01       14.541667  14.958333\n",
       "...                    ...        ...\n",
       "2017-10-31       22.916667  19.666667\n",
       "2018-10-31       13.375000  22.916667\n",
       "2019-10-31       15.208333  13.375000\n",
       "2020-10-31       13.375000  15.208333\n",
       "2021-10-31        8.625000  13.375000\n",
       "\n",
       "[4050 rows x 2 columns]"
      ]
     },
     "execution_count": 895,
     "metadata": {},
     "output_type": "execute_result"
    }
   ],
   "source": [
    "df_centenario_no2.drop(index='2011-04-01')"
   ]
  },
  {
   "cell_type": "code",
   "execution_count": 903,
   "metadata": {},
   "outputs": [
    {
     "data": {
      "text/plain": [
       "NO2_CENTENARIO    0\n",
       "Lag_1             1\n",
       "dtype: int64"
      ]
     },
     "execution_count": 903,
     "metadata": {},
     "output_type": "execute_result"
    }
   ],
   "source": [
    "df_centenario_no2.isnull().sum()"
   ]
  },
  {
   "cell_type": "code",
   "execution_count": 906,
   "metadata": {},
   "outputs": [
    {
     "data": {
      "text/html": [
       "<div>\n",
       "<style scoped>\n",
       "    .dataframe tbody tr th:only-of-type {\n",
       "        vertical-align: middle;\n",
       "    }\n",
       "\n",
       "    .dataframe tbody tr th {\n",
       "        vertical-align: top;\n",
       "    }\n",
       "\n",
       "    .dataframe thead th {\n",
       "        text-align: right;\n",
       "    }\n",
       "</style>\n",
       "<table border=\"1\" class=\"dataframe\">\n",
       "  <thead>\n",
       "    <tr style=\"text-align: right;\">\n",
       "      <th></th>\n",
       "      <th>NO2_CENTENARIO</th>\n",
       "      <th>Lag_1</th>\n",
       "    </tr>\n",
       "    <tr>\n",
       "      <th>Fecha</th>\n",
       "      <th></th>\n",
       "      <th></th>\n",
       "    </tr>\n",
       "  </thead>\n",
       "  <tbody>\n",
       "  </tbody>\n",
       "</table>\n",
       "</div>"
      ],
      "text/plain": [
       "Empty DataFrame\n",
       "Columns: [NO2_CENTENARIO, Lag_1]\n",
       "Index: []"
      ]
     },
     "execution_count": 906,
     "metadata": {},
     "output_type": "execute_result"
    }
   ],
   "source": [
    "\n",
    "\n",
    "df_centenario_no2= df_centenario_no2.dropna()\n",
    "\n",
    "df_centenario_no2[df_centenario_no2.isnull().any(axis=1)]"
   ]
  },
  {
   "cell_type": "code",
   "execution_count": 907,
   "metadata": {},
   "outputs": [],
   "source": [
    "y = df_centenario_no2['NO2_CENTENARIO']\n",
    "X= df_centenario_no2[['Lag_1']]"
   ]
  },
  {
   "cell_type": "code",
   "execution_count": null,
   "metadata": {},
   "outputs": [],
   "source": []
  },
  {
   "cell_type": "code",
   "execution_count": 908,
   "metadata": {},
   "outputs": [],
   "source": [
    "\n",
    "\n",
    "\n",
    "X_train, X_test, y_train, y_test = train_test_split(X,y, test_size=0.3, random_state=42)"
   ]
  },
  {
   "cell_type": "code",
   "execution_count": 898,
   "metadata": {},
   "outputs": [],
   "source": [
    "#model = HistGradientBoostingRegressor(  max_depth = 7, random_state = 18)\n",
    "#model.fit(X_train,y_train)"
   ]
  },
  {
   "cell_type": "code",
   "execution_count": 909,
   "metadata": {},
   "outputs": [
    {
     "name": "stdout",
     "output_type": "stream",
     "text": [
      "Lag_1    0\n",
      "dtype: int64\n",
      "0\n",
      "Lag_1    0\n",
      "dtype: int64\n"
     ]
    }
   ],
   "source": [
    "print(X_train.isnull().sum())\n",
    "print(y_train.isnull().sum())\n",
    "print(X_test.isnull().sum())"
   ]
  },
  {
   "cell_type": "code",
   "execution_count": 910,
   "metadata": {},
   "outputs": [
    {
     "data": {
      "text/html": [
       "<style>#sk-container-id-5 {color: black;background-color: white;}#sk-container-id-5 pre{padding: 0;}#sk-container-id-5 div.sk-toggleable {background-color: white;}#sk-container-id-5 label.sk-toggleable__label {cursor: pointer;display: block;width: 100%;margin-bottom: 0;padding: 0.3em;box-sizing: border-box;text-align: center;}#sk-container-id-5 label.sk-toggleable__label-arrow:before {content: \"▸\";float: left;margin-right: 0.25em;color: #696969;}#sk-container-id-5 label.sk-toggleable__label-arrow:hover:before {color: black;}#sk-container-id-5 div.sk-estimator:hover label.sk-toggleable__label-arrow:before {color: black;}#sk-container-id-5 div.sk-toggleable__content {max-height: 0;max-width: 0;overflow: hidden;text-align: left;background-color: #f0f8ff;}#sk-container-id-5 div.sk-toggleable__content pre {margin: 0.2em;color: black;border-radius: 0.25em;background-color: #f0f8ff;}#sk-container-id-5 input.sk-toggleable__control:checked~div.sk-toggleable__content {max-height: 200px;max-width: 100%;overflow: auto;}#sk-container-id-5 input.sk-toggleable__control:checked~label.sk-toggleable__label-arrow:before {content: \"▾\";}#sk-container-id-5 div.sk-estimator input.sk-toggleable__control:checked~label.sk-toggleable__label {background-color: #d4ebff;}#sk-container-id-5 div.sk-label input.sk-toggleable__control:checked~label.sk-toggleable__label {background-color: #d4ebff;}#sk-container-id-5 input.sk-hidden--visually {border: 0;clip: rect(1px 1px 1px 1px);clip: rect(1px, 1px, 1px, 1px);height: 1px;margin: -1px;overflow: hidden;padding: 0;position: absolute;width: 1px;}#sk-container-id-5 div.sk-estimator {font-family: monospace;background-color: #f0f8ff;border: 1px dotted black;border-radius: 0.25em;box-sizing: border-box;margin-bottom: 0.5em;}#sk-container-id-5 div.sk-estimator:hover {background-color: #d4ebff;}#sk-container-id-5 div.sk-parallel-item::after {content: \"\";width: 100%;border-bottom: 1px solid gray;flex-grow: 1;}#sk-container-id-5 div.sk-label:hover label.sk-toggleable__label {background-color: #d4ebff;}#sk-container-id-5 div.sk-serial::before {content: \"\";position: absolute;border-left: 1px solid gray;box-sizing: border-box;top: 0;bottom: 0;left: 50%;z-index: 0;}#sk-container-id-5 div.sk-serial {display: flex;flex-direction: column;align-items: center;background-color: white;padding-right: 0.2em;padding-left: 0.2em;position: relative;}#sk-container-id-5 div.sk-item {position: relative;z-index: 1;}#sk-container-id-5 div.sk-parallel {display: flex;align-items: stretch;justify-content: center;background-color: white;position: relative;}#sk-container-id-5 div.sk-item::before, #sk-container-id-5 div.sk-parallel-item::before {content: \"\";position: absolute;border-left: 1px solid gray;box-sizing: border-box;top: 0;bottom: 0;left: 50%;z-index: -1;}#sk-container-id-5 div.sk-parallel-item {display: flex;flex-direction: column;z-index: 1;position: relative;background-color: white;}#sk-container-id-5 div.sk-parallel-item:first-child::after {align-self: flex-end;width: 50%;}#sk-container-id-5 div.sk-parallel-item:last-child::after {align-self: flex-start;width: 50%;}#sk-container-id-5 div.sk-parallel-item:only-child::after {width: 0;}#sk-container-id-5 div.sk-dashed-wrapped {border: 1px dashed gray;margin: 0 0.4em 0.5em 0.4em;box-sizing: border-box;padding-bottom: 0.4em;background-color: white;}#sk-container-id-5 div.sk-label label {font-family: monospace;font-weight: bold;display: inline-block;line-height: 1.2em;}#sk-container-id-5 div.sk-label-container {text-align: center;}#sk-container-id-5 div.sk-container {/* jupyter's `normalize.less` sets `[hidden] { display: none; }` but bootstrap.min.css set `[hidden] { display: none !important; }` so we also need the `!important` here to be able to override the default hidden behavior on the sphinx rendered scikit-learn.org. See: https://github.com/scikit-learn/scikit-learn/issues/21755 */display: inline-block !important;position: relative;}#sk-container-id-5 div.sk-text-repr-fallback {display: none;}</style><div id=\"sk-container-id-5\" class=\"sk-top-container\"><div class=\"sk-text-repr-fallback\"><pre>RandomForestRegressor(max_depth=7, max_features=&#x27;sqrt&#x27;, n_estimators=300,\n",
       "                      random_state=18)</pre><b>In a Jupyter environment, please rerun this cell to show the HTML representation or trust the notebook. <br />On GitHub, the HTML representation is unable to render, please try loading this page with nbviewer.org.</b></div><div class=\"sk-container\" hidden><div class=\"sk-item\"><div class=\"sk-estimator sk-toggleable\"><input class=\"sk-toggleable__control sk-hidden--visually\" id=\"sk-estimator-id-5\" type=\"checkbox\" checked><label for=\"sk-estimator-id-5\" class=\"sk-toggleable__label sk-toggleable__label-arrow\">RandomForestRegressor</label><div class=\"sk-toggleable__content\"><pre>RandomForestRegressor(max_depth=7, max_features=&#x27;sqrt&#x27;, n_estimators=300,\n",
       "                      random_state=18)</pre></div></div></div></div></div>"
      ],
      "text/plain": [
       "RandomForestRegressor(max_depth=7, max_features='sqrt', n_estimators=300,\n",
       "                      random_state=18)"
      ]
     },
     "execution_count": 910,
     "metadata": {},
     "output_type": "execute_result"
    }
   ],
   "source": [
    "rf = RandomForestRegressor(n_estimators = 300, max_features = 'sqrt', max_depth = 7, random_state = 18)\n",
    "rf.fit(X_train, y_train)"
   ]
  },
  {
   "cell_type": "code",
   "execution_count": 901,
   "metadata": {},
   "outputs": [],
   "source": [
    "#pickle file\n",
    "pickle.dump(rf,open(\"model.pkl\",\"wb\"))"
   ]
  },
  {
   "cell_type": "code",
   "execution_count": 911,
   "metadata": {},
   "outputs": [],
   "source": [
    "y_pred = pd.Series(rf.predict(X_test), index=X_test.index)"
   ]
  },
  {
   "cell_type": "code",
   "execution_count": null,
   "metadata": {},
   "outputs": [],
   "source": []
  },
  {
   "cell_type": "code",
   "execution_count": 915,
   "metadata": {},
   "outputs": [
    {
     "data": {
      "image/png": "[encoded data removed]",
      "text/plain": [
       "<Figure size 640x480 with 1 Axes>"
      ]
     },
     "metadata": {},
     "output_type": "display_data"
    }
   ],
   "source": [
    "fig, ax = plt.subplots()\n",
    "ax.plot(X_test['Lag_1'], y_test, '.', color='0.25')\n",
    "ax.plot(X_test['Lag_1'], y_pred)\n",
    "ax.set_aspect('equal')\n",
    "ax.set_ylabel('NumVehicles')\n",
    "ax.set_xlabel('Lag_1')\n",
    "ax.set_title('Lag Plot of Tunnel Traffic');"
   ]
  }
 ],
 "metadata": {
  "kernelspec": {
   "display_name": "Python 3.10.4 64-bit",
   "language": "python",
   "name": "python3"
  },
  "language_info": {
   "codemirror_mode": {
    "name": "ipython",
    "version": 3
   },
   "file_extension": ".py",
   "mimetype": "text/x-python",
   "name": "python",
   "nbconvert_exporter": "python",
   "pygments_lexer": "ipython3",
   "version": "3.10.4"
  },
  "orig_nbformat": 4,
  "vscode": {
   "interpreter": {
    "hash": "f2ccb58c476f33ba3e3aee7ac07234ef6b8217ef24ad64d2a7d4fed1a57c1cd2"
   }
  }
 },
 "nbformat": 4,
 "nbformat_minor": 2
}
